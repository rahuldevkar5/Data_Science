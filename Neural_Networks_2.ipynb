{
  "nbformat": 4,
  "nbformat_minor": 0,
  "metadata": {
    "colab": {
      "name": "Neural_Networks_2.ipynb",
      "provenance": [],
      "authorship_tag": "ABX9TyMO1GrIUVatruqwgS7L7MiG",
      "include_colab_link": true
    },
    "kernelspec": {
      "name": "python3",
      "display_name": "Python 3"
    },
    "language_info": {
      "name": "python"
    }
  },
  "cells": [
    {
      "cell_type": "markdown",
      "metadata": {
        "id": "view-in-github",
        "colab_type": "text"
      },
      "source": [
        "<a href=\"https://colab.research.google.com/github/rahuldevkar5/Data_Science/blob/main/Neural_Networks_2.ipynb\" target=\"_parent\"><img src=\"https://colab.research.google.com/assets/colab-badge.svg\" alt=\"Open In Colab\"/></a>"
      ]
    },
    {
      "cell_type": "code",
      "metadata": {
        "id": "iBI6MvrJNVVH"
      },
      "source": [
        "#import the libraries\n",
        "import pandas as pd\n",
        "import matplotlib.pyplot as plt\n",
        "%matplotlib inline"
      ],
      "execution_count": 1,
      "outputs": []
    },
    {
      "cell_type": "code",
      "metadata": {
        "colab": {
          "base_uri": "https://localhost:8080/",
          "height": 419
        },
        "id": "XdP4b_1qOWea",
        "outputId": "1ec3c9e0-54f9-45ae-a98f-b7f4f97ed222"
      },
      "source": [
        "gas_turbines=pd.read_csv('/content/gas_turbines.csv')\n",
        "gas_turbines"
      ],
      "execution_count": 2,
      "outputs": [
        {
          "output_type": "execute_result",
          "data": {
            "text/html": [
              "<div>\n",
              "<style scoped>\n",
              "    .dataframe tbody tr th:only-of-type {\n",
              "        vertical-align: middle;\n",
              "    }\n",
              "\n",
              "    .dataframe tbody tr th {\n",
              "        vertical-align: top;\n",
              "    }\n",
              "\n",
              "    .dataframe thead th {\n",
              "        text-align: right;\n",
              "    }\n",
              "</style>\n",
              "<table border=\"1\" class=\"dataframe\">\n",
              "  <thead>\n",
              "    <tr style=\"text-align: right;\">\n",
              "      <th></th>\n",
              "      <th>AT</th>\n",
              "      <th>AP</th>\n",
              "      <th>AH</th>\n",
              "      <th>AFDP</th>\n",
              "      <th>GTEP</th>\n",
              "      <th>TIT</th>\n",
              "      <th>TAT</th>\n",
              "      <th>TEY</th>\n",
              "      <th>CDP</th>\n",
              "      <th>CO</th>\n",
              "      <th>NOX</th>\n",
              "    </tr>\n",
              "  </thead>\n",
              "  <tbody>\n",
              "    <tr>\n",
              "      <th>0</th>\n",
              "      <td>6.8594</td>\n",
              "      <td>1007.9</td>\n",
              "      <td>96.799</td>\n",
              "      <td>3.5000</td>\n",
              "      <td>19.663</td>\n",
              "      <td>1059.2</td>\n",
              "      <td>550.00</td>\n",
              "      <td>114.70</td>\n",
              "      <td>10.605</td>\n",
              "      <td>3.1547</td>\n",
              "      <td>82.722</td>\n",
              "    </tr>\n",
              "    <tr>\n",
              "      <th>1</th>\n",
              "      <td>6.7850</td>\n",
              "      <td>1008.4</td>\n",
              "      <td>97.118</td>\n",
              "      <td>3.4998</td>\n",
              "      <td>19.728</td>\n",
              "      <td>1059.3</td>\n",
              "      <td>550.00</td>\n",
              "      <td>114.72</td>\n",
              "      <td>10.598</td>\n",
              "      <td>3.2363</td>\n",
              "      <td>82.776</td>\n",
              "    </tr>\n",
              "    <tr>\n",
              "      <th>2</th>\n",
              "      <td>6.8977</td>\n",
              "      <td>1008.8</td>\n",
              "      <td>95.939</td>\n",
              "      <td>3.4824</td>\n",
              "      <td>19.779</td>\n",
              "      <td>1059.4</td>\n",
              "      <td>549.87</td>\n",
              "      <td>114.71</td>\n",
              "      <td>10.601</td>\n",
              "      <td>3.2012</td>\n",
              "      <td>82.468</td>\n",
              "    </tr>\n",
              "    <tr>\n",
              "      <th>3</th>\n",
              "      <td>7.0569</td>\n",
              "      <td>1009.2</td>\n",
              "      <td>95.249</td>\n",
              "      <td>3.4805</td>\n",
              "      <td>19.792</td>\n",
              "      <td>1059.6</td>\n",
              "      <td>549.99</td>\n",
              "      <td>114.72</td>\n",
              "      <td>10.606</td>\n",
              "      <td>3.1923</td>\n",
              "      <td>82.670</td>\n",
              "    </tr>\n",
              "    <tr>\n",
              "      <th>4</th>\n",
              "      <td>7.3978</td>\n",
              "      <td>1009.7</td>\n",
              "      <td>95.150</td>\n",
              "      <td>3.4976</td>\n",
              "      <td>19.765</td>\n",
              "      <td>1059.7</td>\n",
              "      <td>549.98</td>\n",
              "      <td>114.72</td>\n",
              "      <td>10.612</td>\n",
              "      <td>3.2484</td>\n",
              "      <td>82.311</td>\n",
              "    </tr>\n",
              "    <tr>\n",
              "      <th>...</th>\n",
              "      <td>...</td>\n",
              "      <td>...</td>\n",
              "      <td>...</td>\n",
              "      <td>...</td>\n",
              "      <td>...</td>\n",
              "      <td>...</td>\n",
              "      <td>...</td>\n",
              "      <td>...</td>\n",
              "      <td>...</td>\n",
              "      <td>...</td>\n",
              "      <td>...</td>\n",
              "    </tr>\n",
              "    <tr>\n",
              "      <th>15034</th>\n",
              "      <td>9.0301</td>\n",
              "      <td>1005.6</td>\n",
              "      <td>98.460</td>\n",
              "      <td>3.5421</td>\n",
              "      <td>19.164</td>\n",
              "      <td>1049.7</td>\n",
              "      <td>546.21</td>\n",
              "      <td>111.61</td>\n",
              "      <td>10.400</td>\n",
              "      <td>4.5186</td>\n",
              "      <td>79.559</td>\n",
              "    </tr>\n",
              "    <tr>\n",
              "      <th>15035</th>\n",
              "      <td>7.8879</td>\n",
              "      <td>1005.9</td>\n",
              "      <td>99.093</td>\n",
              "      <td>3.5059</td>\n",
              "      <td>19.414</td>\n",
              "      <td>1046.3</td>\n",
              "      <td>543.22</td>\n",
              "      <td>111.78</td>\n",
              "      <td>10.433</td>\n",
              "      <td>4.8470</td>\n",
              "      <td>79.917</td>\n",
              "    </tr>\n",
              "    <tr>\n",
              "      <th>15036</th>\n",
              "      <td>7.2647</td>\n",
              "      <td>1006.3</td>\n",
              "      <td>99.496</td>\n",
              "      <td>3.4770</td>\n",
              "      <td>19.530</td>\n",
              "      <td>1037.7</td>\n",
              "      <td>537.32</td>\n",
              "      <td>110.19</td>\n",
              "      <td>10.483</td>\n",
              "      <td>7.9632</td>\n",
              "      <td>90.912</td>\n",
              "    </tr>\n",
              "    <tr>\n",
              "      <th>15037</th>\n",
              "      <td>7.0060</td>\n",
              "      <td>1006.8</td>\n",
              "      <td>99.008</td>\n",
              "      <td>3.4486</td>\n",
              "      <td>19.377</td>\n",
              "      <td>1043.2</td>\n",
              "      <td>541.24</td>\n",
              "      <td>110.74</td>\n",
              "      <td>10.533</td>\n",
              "      <td>6.2494</td>\n",
              "      <td>93.227</td>\n",
              "    </tr>\n",
              "    <tr>\n",
              "      <th>15038</th>\n",
              "      <td>6.9279</td>\n",
              "      <td>1007.2</td>\n",
              "      <td>97.533</td>\n",
              "      <td>3.4275</td>\n",
              "      <td>19.306</td>\n",
              "      <td>1049.9</td>\n",
              "      <td>545.85</td>\n",
              "      <td>111.58</td>\n",
              "      <td>10.583</td>\n",
              "      <td>4.9816</td>\n",
              "      <td>92.498</td>\n",
              "    </tr>\n",
              "  </tbody>\n",
              "</table>\n",
              "<p>15039 rows × 11 columns</p>\n",
              "</div>"
            ],
            "text/plain": [
              "           AT      AP      AH    AFDP  ...     TEY     CDP      CO     NOX\n",
              "0      6.8594  1007.9  96.799  3.5000  ...  114.70  10.605  3.1547  82.722\n",
              "1      6.7850  1008.4  97.118  3.4998  ...  114.72  10.598  3.2363  82.776\n",
              "2      6.8977  1008.8  95.939  3.4824  ...  114.71  10.601  3.2012  82.468\n",
              "3      7.0569  1009.2  95.249  3.4805  ...  114.72  10.606  3.1923  82.670\n",
              "4      7.3978  1009.7  95.150  3.4976  ...  114.72  10.612  3.2484  82.311\n",
              "...       ...     ...     ...     ...  ...     ...     ...     ...     ...\n",
              "15034  9.0301  1005.6  98.460  3.5421  ...  111.61  10.400  4.5186  79.559\n",
              "15035  7.8879  1005.9  99.093  3.5059  ...  111.78  10.433  4.8470  79.917\n",
              "15036  7.2647  1006.3  99.496  3.4770  ...  110.19  10.483  7.9632  90.912\n",
              "15037  7.0060  1006.8  99.008  3.4486  ...  110.74  10.533  6.2494  93.227\n",
              "15038  6.9279  1007.2  97.533  3.4275  ...  111.58  10.583  4.9816  92.498\n",
              "\n",
              "[15039 rows x 11 columns]"
            ]
          },
          "metadata": {
            "tags": []
          },
          "execution_count": 2
        }
      ]
    },
    {
      "cell_type": "code",
      "metadata": {
        "colab": {
          "base_uri": "https://localhost:8080/"
        },
        "id": "yUxjFJjFOm7D",
        "outputId": "311ed99a-b651-43fb-aa94-bcd949513f91"
      },
      "source": [
        "gas_turbines.isnull().sum()"
      ],
      "execution_count": 3,
      "outputs": [
        {
          "output_type": "execute_result",
          "data": {
            "text/plain": [
              "AT      0\n",
              "AP      0\n",
              "AH      0\n",
              "AFDP    0\n",
              "GTEP    0\n",
              "TIT     0\n",
              "TAT     0\n",
              "TEY     0\n",
              "CDP     0\n",
              "CO      0\n",
              "NOX     0\n",
              "dtype: int64"
            ]
          },
          "metadata": {
            "tags": []
          },
          "execution_count": 3
        }
      ]
    },
    {
      "cell_type": "code",
      "metadata": {
        "colab": {
          "base_uri": "https://localhost:8080/",
          "height": 317
        },
        "id": "QMo-MgqfOqtz",
        "outputId": "0858706b-079f-4288-9f9f-aeedcdb0ea1c"
      },
      "source": [
        "gas_turbines.describe()"
      ],
      "execution_count": 4,
      "outputs": [
        {
          "output_type": "execute_result",
          "data": {
            "text/html": [
              "<div>\n",
              "<style scoped>\n",
              "    .dataframe tbody tr th:only-of-type {\n",
              "        vertical-align: middle;\n",
              "    }\n",
              "\n",
              "    .dataframe tbody tr th {\n",
              "        vertical-align: top;\n",
              "    }\n",
              "\n",
              "    .dataframe thead th {\n",
              "        text-align: right;\n",
              "    }\n",
              "</style>\n",
              "<table border=\"1\" class=\"dataframe\">\n",
              "  <thead>\n",
              "    <tr style=\"text-align: right;\">\n",
              "      <th></th>\n",
              "      <th>AT</th>\n",
              "      <th>AP</th>\n",
              "      <th>AH</th>\n",
              "      <th>AFDP</th>\n",
              "      <th>GTEP</th>\n",
              "      <th>TIT</th>\n",
              "      <th>TAT</th>\n",
              "      <th>TEY</th>\n",
              "      <th>CDP</th>\n",
              "      <th>CO</th>\n",
              "      <th>NOX</th>\n",
              "    </tr>\n",
              "  </thead>\n",
              "  <tbody>\n",
              "    <tr>\n",
              "      <th>count</th>\n",
              "      <td>15039.000000</td>\n",
              "      <td>15039.00000</td>\n",
              "      <td>15039.000000</td>\n",
              "      <td>15039.000000</td>\n",
              "      <td>15039.000000</td>\n",
              "      <td>15039.000000</td>\n",
              "      <td>15039.000000</td>\n",
              "      <td>15039.000000</td>\n",
              "      <td>15039.000000</td>\n",
              "      <td>15039.000000</td>\n",
              "      <td>15039.000000</td>\n",
              "    </tr>\n",
              "    <tr>\n",
              "      <th>mean</th>\n",
              "      <td>17.764381</td>\n",
              "      <td>1013.19924</td>\n",
              "      <td>79.124174</td>\n",
              "      <td>4.200294</td>\n",
              "      <td>25.419061</td>\n",
              "      <td>1083.798770</td>\n",
              "      <td>545.396183</td>\n",
              "      <td>134.188464</td>\n",
              "      <td>12.102353</td>\n",
              "      <td>1.972499</td>\n",
              "      <td>68.190934</td>\n",
              "    </tr>\n",
              "    <tr>\n",
              "      <th>std</th>\n",
              "      <td>7.574323</td>\n",
              "      <td>6.41076</td>\n",
              "      <td>13.793439</td>\n",
              "      <td>0.760197</td>\n",
              "      <td>4.173916</td>\n",
              "      <td>16.527806</td>\n",
              "      <td>7.866803</td>\n",
              "      <td>15.829717</td>\n",
              "      <td>1.103196</td>\n",
              "      <td>2.222206</td>\n",
              "      <td>10.470586</td>\n",
              "    </tr>\n",
              "    <tr>\n",
              "      <th>min</th>\n",
              "      <td>0.522300</td>\n",
              "      <td>985.85000</td>\n",
              "      <td>30.344000</td>\n",
              "      <td>2.087400</td>\n",
              "      <td>17.878000</td>\n",
              "      <td>1000.800000</td>\n",
              "      <td>512.450000</td>\n",
              "      <td>100.170000</td>\n",
              "      <td>9.904400</td>\n",
              "      <td>0.000388</td>\n",
              "      <td>27.765000</td>\n",
              "    </tr>\n",
              "    <tr>\n",
              "      <th>25%</th>\n",
              "      <td>11.408000</td>\n",
              "      <td>1008.90000</td>\n",
              "      <td>69.750000</td>\n",
              "      <td>3.723900</td>\n",
              "      <td>23.294000</td>\n",
              "      <td>1079.600000</td>\n",
              "      <td>542.170000</td>\n",
              "      <td>127.985000</td>\n",
              "      <td>11.622000</td>\n",
              "      <td>0.858055</td>\n",
              "      <td>61.303500</td>\n",
              "    </tr>\n",
              "    <tr>\n",
              "      <th>50%</th>\n",
              "      <td>18.186000</td>\n",
              "      <td>1012.80000</td>\n",
              "      <td>82.266000</td>\n",
              "      <td>4.186200</td>\n",
              "      <td>25.082000</td>\n",
              "      <td>1088.700000</td>\n",
              "      <td>549.890000</td>\n",
              "      <td>133.780000</td>\n",
              "      <td>12.025000</td>\n",
              "      <td>1.390200</td>\n",
              "      <td>66.601000</td>\n",
              "    </tr>\n",
              "    <tr>\n",
              "      <th>75%</th>\n",
              "      <td>23.862500</td>\n",
              "      <td>1016.90000</td>\n",
              "      <td>90.043500</td>\n",
              "      <td>4.550900</td>\n",
              "      <td>27.184000</td>\n",
              "      <td>1096.000000</td>\n",
              "      <td>550.060000</td>\n",
              "      <td>140.895000</td>\n",
              "      <td>12.578000</td>\n",
              "      <td>2.160400</td>\n",
              "      <td>73.935500</td>\n",
              "    </tr>\n",
              "    <tr>\n",
              "      <th>max</th>\n",
              "      <td>34.929000</td>\n",
              "      <td>1034.20000</td>\n",
              "      <td>100.200000</td>\n",
              "      <td>7.610600</td>\n",
              "      <td>37.402000</td>\n",
              "      <td>1100.800000</td>\n",
              "      <td>550.610000</td>\n",
              "      <td>174.610000</td>\n",
              "      <td>15.081000</td>\n",
              "      <td>44.103000</td>\n",
              "      <td>119.890000</td>\n",
              "    </tr>\n",
              "  </tbody>\n",
              "</table>\n",
              "</div>"
            ],
            "text/plain": [
              "                 AT           AP  ...            CO           NOX\n",
              "count  15039.000000  15039.00000  ...  15039.000000  15039.000000\n",
              "mean      17.764381   1013.19924  ...      1.972499     68.190934\n",
              "std        7.574323      6.41076  ...      2.222206     10.470586\n",
              "min        0.522300    985.85000  ...      0.000388     27.765000\n",
              "25%       11.408000   1008.90000  ...      0.858055     61.303500\n",
              "50%       18.186000   1012.80000  ...      1.390200     66.601000\n",
              "75%       23.862500   1016.90000  ...      2.160400     73.935500\n",
              "max       34.929000   1034.20000  ...     44.103000    119.890000\n",
              "\n",
              "[8 rows x 11 columns]"
            ]
          },
          "metadata": {
            "tags": []
          },
          "execution_count": 4
        }
      ]
    },
    {
      "cell_type": "code",
      "metadata": {
        "colab": {
          "base_uri": "https://localhost:8080/"
        },
        "id": "lgZLhyIxO0T7",
        "outputId": "75643684-0ebc-4ed2-a7d6-b7fe00fa59b2"
      },
      "source": [
        "gas_turbines.dtypes"
      ],
      "execution_count": 5,
      "outputs": [
        {
          "output_type": "execute_result",
          "data": {
            "text/plain": [
              "AT      float64\n",
              "AP      float64\n",
              "AH      float64\n",
              "AFDP    float64\n",
              "GTEP    float64\n",
              "TIT     float64\n",
              "TAT     float64\n",
              "TEY     float64\n",
              "CDP     float64\n",
              "CO      float64\n",
              "NOX     float64\n",
              "dtype: object"
            ]
          },
          "metadata": {
            "tags": []
          },
          "execution_count": 5
        }
      ]
    },
    {
      "cell_type": "code",
      "metadata": {
        "colab": {
          "base_uri": "https://localhost:8080/",
          "height": 282
        },
        "id": "WZhGfVOcO47D",
        "outputId": "384d309a-e4d8-43e3-d9c8-a50c83409eb6"
      },
      "source": [
        "#Box plot\n",
        "gas_turbines.boxplot(column=['TEY'])"
      ],
      "execution_count": 6,
      "outputs": [
        {
          "output_type": "execute_result",
          "data": {
            "text/plain": [
              "<matplotlib.axes._subplots.AxesSubplot at 0x7f7e7d705fd0>"
            ]
          },
          "metadata": {
            "tags": []
          },
          "execution_count": 6
        },
        {
          "output_type": "display_data",
          "data": {
            "image/png": "[encoded data removed]",
            "text/plain": [
              "<Figure size 432x288 with 1 Axes>"
            ]
          },
          "metadata": {
            "tags": [],
            "needs_background": "light"
          }
        }
      ]
    },
    {
      "cell_type": "code",
      "metadata": {
        "colab": {
          "base_uri": "https://localhost:8080/"
        },
        "id": "8ak3Xf5SO8b4",
        "outputId": "bdb45a09-f147-4cca-f6db-cf933a620694"
      },
      "source": [
        "from sklearn.preprocessing import StandardScaler\n",
        "scaler=StandardScaler()\n",
        "scaler.fit(gas_turbines.iloc[:,0:11])\n",
        "scaler.transform(gas_turbines.iloc[:,0:11])"
      ],
      "execution_count": 7,
      "outputs": [
        {
          "output_type": "execute_result",
          "data": {
            "text/plain": [
              "array([[-1.4397781 , -0.82664395,  1.28143632, ..., -1.35733078,\n",
              "         0.53201195,  1.3878449 ],\n",
              "       [-1.44960109, -0.74864748,  1.30456402, ..., -1.36367619,\n",
              "         0.56873344,  1.39300237],\n",
              "       [-1.43472138, -0.68625031,  1.21908576, ..., -1.36095673,\n",
              "         0.5529378 ,  1.36358566],\n",
              "       ...,\n",
              "       [-1.38626659, -1.07623263,  1.47697056, ..., -1.46792219,\n",
              "         2.69592467,  2.17006209],\n",
              "       [-1.42042259, -0.99823616,  1.44159024, ..., -1.42259784,\n",
              "         1.9246834 ,  2.391165  ],\n",
              "       [-1.43073409, -0.93583899,  1.33465179, ..., -1.37727349,\n",
              "         1.35415028,  2.32153907]])"
            ]
          },
          "metadata": {
            "tags": []
          },
          "execution_count": 7
        }
      ]
    },
    {
      "cell_type": "code",
      "metadata": {
        "colab": {
          "base_uri": "https://localhost:8080/"
        },
        "id": "qAYH5ddqO_ys",
        "outputId": "03aed4f7-2b27-4331-b99e-1e717b8c2687"
      },
      "source": [
        "gas_turbines.columns"
      ],
      "execution_count": 8,
      "outputs": [
        {
          "output_type": "execute_result",
          "data": {
            "text/plain": [
              "Index(['AT', 'AP', 'AH', 'AFDP', 'GTEP', 'TIT', 'TAT', 'TEY', 'CDP', 'CO',\n",
              "       'NOX'],\n",
              "      dtype='object')"
            ]
          },
          "metadata": {
            "tags": []
          },
          "execution_count": 8
        }
      ]
    },
    {
      "cell_type": "code",
      "metadata": {
        "id": "5433FAtfPD5k"
      },
      "source": [
        "columns=['AT', 'AP', 'AH', 'AFDP', 'GTEP', 'TIT', 'TAT', 'TEY', 'CDP', 'CO','NOX']\n",
        "gas_turbine=gas_turbines[columns]"
      ],
      "execution_count": 9,
      "outputs": []
    },
    {
      "cell_type": "code",
      "metadata": {
        "id": "CGi3pW0iPGNq"
      },
      "source": [
        "input=['AT', 'AP', 'AH', 'AFDP', 'GTEP', 'TIT', 'TAT', 'CDP', 'CO','NOX']\n",
        "output=['TEY']\n",
        "\n",
        "X=gas_turbine[input]\n",
        "y=gas_turbine[output]"
      ],
      "execution_count": 10,
      "outputs": []
    },
    {
      "cell_type": "code",
      "metadata": {
        "id": "7437vBurPIc-"
      },
      "source": [
        "from sklearn.model_selection import train_test_split\n",
        "X_train,X_test,y_train,y_test= train_test_split(X,y, test_size=0.3)"
      ],
      "execution_count": 11,
      "outputs": []
    },
    {
      "cell_type": "code",
      "metadata": {
        "id": "pVsqVIkZPLFs"
      },
      "source": [
        "#Using KERAS model\n",
        "from keras.models import Sequential\n",
        "from keras.layers import Dense\n",
        "from keras.wrappers.scikit_learn import KerasClassifier"
      ],
      "execution_count": 12,
      "outputs": []
    },
    {
      "cell_type": "code",
      "metadata": {
        "id": "m8JDlMt5PT2V"
      },
      "source": [
        "#create model\n",
        "model = Sequential()\n",
        "model.add(Dense(14, input_dim=10, activation='tanh'))\n",
        "model.add(Dense(10, activation='tanh'))\n",
        "model.add(Dense(1, activation='sigmoid'))"
      ],
      "execution_count": 13,
      "outputs": []
    },
    {
      "cell_type": "code",
      "metadata": {
        "id": "Qx987oiKPXJr"
      },
      "source": [
        "# Compile model\n",
        "Model=model.compile(loss='binary_crossentropy', optimizer='adam', metrics=['accuracy'])"
      ],
      "execution_count": 14,
      "outputs": []
    },
    {
      "cell_type": "code",
      "metadata": {
        "colab": {
          "base_uri": "https://localhost:8080/"
        },
        "id": "NQrBqStwPZwt",
        "outputId": "159f24dc-2ed8-408c-ce7b-dea9c087e434"
      },
      "source": [
        "# fit the keras model on the dataset\n",
        "Model=model.fit(X_train, y_train,validation_split=0.33,epochs=100,batch_size=11)"
      ],
      "execution_count": 15,
      "outputs": [
        {
          "output_type": "stream",
          "text": [
            "Epoch 1/100\n",
            "642/642 [==============================] - 14s 2ms/step - loss: -372.4342 - accuracy: 0.0000e+00 - val_loss: -1278.7368 - val_accuracy: 0.0000e+00\n",
            "Epoch 2/100\n",
            "642/642 [==============================] - 1s 1ms/step - loss: -1527.6008 - accuracy: 0.0000e+00 - val_loss: -2256.6509 - val_accuracy: 0.0000e+00\n",
            "Epoch 3/100\n",
            "642/642 [==============================] - 1s 2ms/step - loss: -2492.4161 - accuracy: 0.0000e+00 - val_loss: -3211.5801 - val_accuracy: 0.0000e+00\n",
            "Epoch 4/100\n",
            "642/642 [==============================] - 1s 1ms/step - loss: -3443.8938 - accuracy: 0.0000e+00 - val_loss: -4159.0474 - val_accuracy: 0.0000e+00\n",
            "Epoch 5/100\n",
            "642/642 [==============================] - 1s 1ms/step - loss: -4398.7887 - accuracy: 0.0000e+00 - val_loss: -5102.5742 - val_accuracy: 0.0000e+00\n",
            "Epoch 6/100\n",
            "642/642 [==============================] - 1s 1ms/step - loss: -5337.2654 - accuracy: 0.0000e+00 - val_loss: -6044.7856 - val_accuracy: 0.0000e+00\n",
            "Epoch 7/100\n",
            "642/642 [==============================] - 1s 1ms/step - loss: -6281.8461 - accuracy: 0.0000e+00 - val_loss: -6986.1265 - val_accuracy: 0.0000e+00\n",
            "Epoch 8/100\n",
            "642/642 [==============================] - 1s 1ms/step - loss: -7216.7217 - accuracy: 0.0000e+00 - val_loss: -7927.1909 - val_accuracy: 0.0000e+00\n",
            "Epoch 9/100\n",
            "642/642 [==============================] - 1s 1ms/step - loss: -8164.7502 - accuracy: 0.0000e+00 - val_loss: -8867.9375 - val_accuracy: 0.0000e+00\n",
            "Epoch 10/100\n",
            "642/642 [==============================] - 1s 1ms/step - loss: -9081.4050 - accuracy: 0.0000e+00 - val_loss: -9808.7256 - val_accuracy: 0.0000e+00\n",
            "Epoch 11/100\n",
            "642/642 [==============================] - 1s 1ms/step - loss: -10039.7484 - accuracy: 0.0000e+00 - val_loss: -10749.1494 - val_accuracy: 0.0000e+00\n",
            "Epoch 12/100\n",
            "642/642 [==============================] - 1s 1ms/step - loss: -11003.3354 - accuracy: 0.0000e+00 - val_loss: -11689.4160 - val_accuracy: 0.0000e+00\n",
            "Epoch 13/100\n",
            "642/642 [==============================] - 1s 1ms/step - loss: -11941.3347 - accuracy: 0.0000e+00 - val_loss: -12629.7598 - val_accuracy: 0.0000e+00\n",
            "Epoch 14/100\n",
            "642/642 [==============================] - 1s 2ms/step - loss: -12877.0158 - accuracy: 0.0000e+00 - val_loss: -13570.0166 - val_accuracy: 0.0000e+00\n",
            "Epoch 15/100\n",
            "642/642 [==============================] - 1s 1ms/step - loss: -13829.3613 - accuracy: 0.0000e+00 - val_loss: -14510.8027 - val_accuracy: 0.0000e+00\n",
            "Epoch 16/100\n",
            "642/642 [==============================] - 1s 1ms/step - loss: -14760.0116 - accuracy: 0.0000e+00 - val_loss: -15451.0049 - val_accuracy: 0.0000e+00\n",
            "Epoch 17/100\n",
            "642/642 [==============================] - 1s 1ms/step - loss: -15685.5492 - accuracy: 0.0000e+00 - val_loss: -16391.9824 - val_accuracy: 0.0000e+00\n",
            "Epoch 18/100\n",
            "642/642 [==============================] - 1s 1ms/step - loss: -16657.2853 - accuracy: 0.0000e+00 - val_loss: -17332.1836 - val_accuracy: 0.0000e+00\n",
            "Epoch 19/100\n",
            "642/642 [==============================] - 1s 2ms/step - loss: -17553.9024 - accuracy: 0.0000e+00 - val_loss: -18273.0254 - val_accuracy: 0.0000e+00\n",
            "Epoch 20/100\n",
            "642/642 [==============================] - 1s 1ms/step - loss: -18501.4505 - accuracy: 0.0000e+00 - val_loss: -19213.5078 - val_accuracy: 0.0000e+00\n",
            "Epoch 21/100\n",
            "642/642 [==============================] - 1s 1ms/step - loss: -19463.7600 - accuracy: 0.0000e+00 - val_loss: -20153.8086 - val_accuracy: 0.0000e+00\n",
            "Epoch 22/100\n",
            "642/642 [==============================] - 1s 2ms/step - loss: -20380.1230 - accuracy: 0.0000e+00 - val_loss: -21094.4512 - val_accuracy: 0.0000e+00\n",
            "Epoch 23/100\n",
            "642/642 [==============================] - 1s 2ms/step - loss: -21326.7657 - accuracy: 0.0000e+00 - val_loss: -22034.8945 - val_accuracy: 0.0000e+00\n",
            "Epoch 24/100\n",
            "642/642 [==============================] - 1s 2ms/step - loss: -22282.8736 - accuracy: 0.0000e+00 - val_loss: -22975.1172 - val_accuracy: 0.0000e+00\n",
            "Epoch 25/100\n",
            "642/642 [==============================] - 1s 1ms/step - loss: -23235.3150 - accuracy: 0.0000e+00 - val_loss: -23915.7520 - val_accuracy: 0.0000e+00\n",
            "Epoch 26/100\n",
            "642/642 [==============================] - 1s 1ms/step - loss: -24164.7066 - accuracy: 0.0000e+00 - val_loss: -24856.2227 - val_accuracy: 0.0000e+00\n",
            "Epoch 27/100\n",
            "642/642 [==============================] - 1s 1ms/step - loss: -25061.3350 - accuracy: 0.0000e+00 - val_loss: -25796.8496 - val_accuracy: 0.0000e+00\n",
            "Epoch 28/100\n",
            "642/642 [==============================] - 1s 2ms/step - loss: -26071.9118 - accuracy: 0.0000e+00 - val_loss: -26737.0430 - val_accuracy: 0.0000e+00\n",
            "Epoch 29/100\n",
            "642/642 [==============================] - 1s 1ms/step - loss: -26968.2856 - accuracy: 0.0000e+00 - val_loss: -27677.9512 - val_accuracy: 0.0000e+00\n",
            "Epoch 30/100\n",
            "642/642 [==============================] - 1s 1ms/step - loss: -27940.7598 - accuracy: 0.0000e+00 - val_loss: -28618.3203 - val_accuracy: 0.0000e+00\n",
            "Epoch 31/100\n",
            "642/642 [==============================] - 1s 1ms/step - loss: -28873.7715 - accuracy: 0.0000e+00 - val_loss: -29558.6387 - val_accuracy: 0.0000e+00\n",
            "Epoch 32/100\n",
            "642/642 [==============================] - 1s 1ms/step - loss: -29764.0140 - accuracy: 0.0000e+00 - val_loss: -30499.1602 - val_accuracy: 0.0000e+00\n",
            "Epoch 33/100\n",
            "642/642 [==============================] - 1s 1ms/step - loss: -30754.2903 - accuracy: 0.0000e+00 - val_loss: -31439.5098 - val_accuracy: 0.0000e+00\n",
            "Epoch 34/100\n",
            "642/642 [==============================] - 1s 2ms/step - loss: -31694.1480 - accuracy: 0.0000e+00 - val_loss: -32380.1367 - val_accuracy: 0.0000e+00\n",
            "Epoch 35/100\n",
            "642/642 [==============================] - 1s 1ms/step - loss: -32617.1889 - accuracy: 0.0000e+00 - val_loss: -33320.6445 - val_accuracy: 0.0000e+00\n",
            "Epoch 36/100\n",
            "642/642 [==============================] - 1s 2ms/step - loss: -33602.9362 - accuracy: 0.0000e+00 - val_loss: -34260.9805 - val_accuracy: 0.0000e+00\n",
            "Epoch 37/100\n",
            "642/642 [==============================] - 1s 1ms/step - loss: -34529.1845 - accuracy: 0.0000e+00 - val_loss: -35201.4062 - val_accuracy: 0.0000e+00\n",
            "Epoch 38/100\n",
            "642/642 [==============================] - 1s 1ms/step - loss: -35445.1531 - accuracy: 0.0000e+00 - val_loss: -36141.6914 - val_accuracy: 0.0000e+00\n",
            "Epoch 39/100\n",
            "642/642 [==============================] - 1s 1ms/step - loss: -36373.2519 - accuracy: 0.0000e+00 - val_loss: -37082.3242 - val_accuracy: 0.0000e+00\n",
            "Epoch 40/100\n",
            "642/642 [==============================] - 1s 1ms/step - loss: -37324.2296 - accuracy: 0.0000e+00 - val_loss: -38022.9453 - val_accuracy: 0.0000e+00\n",
            "Epoch 41/100\n",
            "642/642 [==============================] - 1s 2ms/step - loss: -38265.0110 - accuracy: 0.0000e+00 - val_loss: -38963.4883 - val_accuracy: 0.0000e+00\n",
            "Epoch 42/100\n",
            "642/642 [==============================] - 1s 1ms/step - loss: -39154.7274 - accuracy: 0.0000e+00 - val_loss: -39904.0586 - val_accuracy: 0.0000e+00\n",
            "Epoch 43/100\n",
            "642/642 [==============================] - 1s 1ms/step - loss: -40176.6951 - accuracy: 0.0000e+00 - val_loss: -40844.7773 - val_accuracy: 0.0000e+00\n",
            "Epoch 44/100\n",
            "642/642 [==============================] - 1s 1ms/step - loss: -41022.5003 - accuracy: 0.0000e+00 - val_loss: -41785.2422 - val_accuracy: 0.0000e+00\n",
            "Epoch 45/100\n",
            "642/642 [==============================] - 1s 2ms/step - loss: -42073.7562 - accuracy: 0.0000e+00 - val_loss: -42725.6836 - val_accuracy: 0.0000e+00\n",
            "Epoch 46/100\n",
            "642/642 [==============================] - 1s 2ms/step - loss: -42997.8865 - accuracy: 0.0000e+00 - val_loss: -43666.3359 - val_accuracy: 0.0000e+00\n",
            "Epoch 47/100\n",
            "642/642 [==============================] - 1s 1ms/step - loss: -43959.2513 - accuracy: 0.0000e+00 - val_loss: -44606.6328 - val_accuracy: 0.0000e+00\n",
            "Epoch 48/100\n",
            "642/642 [==============================] - 1s 1ms/step - loss: -44830.5503 - accuracy: 0.0000e+00 - val_loss: -45546.8906 - val_accuracy: 0.0000e+00\n",
            "Epoch 49/100\n",
            "642/642 [==============================] - 1s 2ms/step - loss: -45843.4015 - accuracy: 0.0000e+00 - val_loss: -46487.5391 - val_accuracy: 0.0000e+00\n",
            "Epoch 50/100\n",
            "642/642 [==============================] - 1s 1ms/step - loss: -46623.4411 - accuracy: 0.0000e+00 - val_loss: -47428.4023 - val_accuracy: 0.0000e+00\n",
            "Epoch 51/100\n",
            "642/642 [==============================] - 1s 1ms/step - loss: -47772.3202 - accuracy: 0.0000e+00 - val_loss: -48368.2734 - val_accuracy: 0.0000e+00\n",
            "Epoch 52/100\n",
            "642/642 [==============================] - 1s 1ms/step - loss: -48620.7398 - accuracy: 0.0000e+00 - val_loss: -49308.9102 - val_accuracy: 0.0000e+00\n",
            "Epoch 53/100\n",
            "642/642 [==============================] - 1s 1ms/step - loss: -49514.2750 - accuracy: 0.0000e+00 - val_loss: -50249.5664 - val_accuracy: 0.0000e+00\n",
            "Epoch 54/100\n",
            "642/642 [==============================] - 1s 2ms/step - loss: -50537.1893 - accuracy: 0.0000e+00 - val_loss: -51190.2461 - val_accuracy: 0.0000e+00\n",
            "Epoch 55/100\n",
            "642/642 [==============================] - 1s 2ms/step - loss: -51455.7489 - accuracy: 0.0000e+00 - val_loss: -52130.5977 - val_accuracy: 0.0000e+00\n",
            "Epoch 56/100\n",
            "642/642 [==============================] - 1s 2ms/step - loss: -52364.2319 - accuracy: 0.0000e+00 - val_loss: -53071.0430 - val_accuracy: 0.0000e+00\n",
            "Epoch 57/100\n",
            "642/642 [==============================] - 1s 2ms/step - loss: -53464.0227 - accuracy: 0.0000e+00 - val_loss: -54010.9219 - val_accuracy: 0.0000e+00\n",
            "Epoch 58/100\n",
            "642/642 [==============================] - 1s 2ms/step - loss: -54315.1588 - accuracy: 0.0000e+00 - val_loss: -54951.6602 - val_accuracy: 0.0000e+00\n",
            "Epoch 59/100\n",
            "642/642 [==============================] - 1s 1ms/step - loss: -55254.4260 - accuracy: 0.0000e+00 - val_loss: -55892.0078 - val_accuracy: 0.0000e+00\n",
            "Epoch 60/100\n",
            "642/642 [==============================] - 1s 1ms/step - loss: -55991.3894 - accuracy: 0.0000e+00 - val_loss: -56832.9453 - val_accuracy: 0.0000e+00\n",
            "Epoch 61/100\n",
            "642/642 [==============================] - 1s 2ms/step - loss: -57042.7168 - accuracy: 0.0000e+00 - val_loss: -57773.4453 - val_accuracy: 0.0000e+00\n",
            "Epoch 62/100\n",
            "642/642 [==============================] - 1s 1ms/step - loss: -58048.8213 - accuracy: 0.0000e+00 - val_loss: -58713.9727 - val_accuracy: 0.0000e+00\n",
            "Epoch 63/100\n",
            "642/642 [==============================] - 1s 1ms/step - loss: -58959.1006 - accuracy: 0.0000e+00 - val_loss: -59654.2422 - val_accuracy: 0.0000e+00\n",
            "Epoch 64/100\n",
            "642/642 [==============================] - 1s 1ms/step - loss: -59891.6002 - accuracy: 0.0000e+00 - val_loss: -60594.9023 - val_accuracy: 0.0000e+00\n",
            "Epoch 65/100\n",
            "642/642 [==============================] - 1s 1ms/step - loss: -60715.5199 - accuracy: 0.0000e+00 - val_loss: -61535.3555 - val_accuracy: 0.0000e+00\n",
            "Epoch 66/100\n",
            "642/642 [==============================] - 1s 2ms/step - loss: -61669.6455 - accuracy: 0.0000e+00 - val_loss: -62476.1953 - val_accuracy: 0.0000e+00\n",
            "Epoch 67/100\n",
            "642/642 [==============================] - 1s 1ms/step - loss: -62563.4111 - accuracy: 0.0000e+00 - val_loss: -63416.4727 - val_accuracy: 0.0000e+00\n",
            "Epoch 68/100\n",
            "642/642 [==============================] - 1s 2ms/step - loss: -63594.4145 - accuracy: 0.0000e+00 - val_loss: -64357.0586 - val_accuracy: 0.0000e+00\n",
            "Epoch 69/100\n",
            "642/642 [==============================] - 1s 2ms/step - loss: -64721.1901 - accuracy: 0.0000e+00 - val_loss: -65297.0508 - val_accuracy: 0.0000e+00\n",
            "Epoch 70/100\n",
            "642/642 [==============================] - 1s 1ms/step - loss: -65582.9452 - accuracy: 0.0000e+00 - val_loss: -66237.3828 - val_accuracy: 0.0000e+00\n",
            "Epoch 71/100\n",
            "642/642 [==============================] - 1s 1ms/step - loss: -66479.0622 - accuracy: 0.0000e+00 - val_loss: -67177.8594 - val_accuracy: 0.0000e+00\n",
            "Epoch 72/100\n",
            "642/642 [==============================] - 1s 1ms/step - loss: -67456.0396 - accuracy: 0.0000e+00 - val_loss: -68118.3750 - val_accuracy: 0.0000e+00\n",
            "Epoch 73/100\n",
            "642/642 [==============================] - 1s 2ms/step - loss: -68560.2637 - accuracy: 0.0000e+00 - val_loss: -69058.6797 - val_accuracy: 0.0000e+00\n",
            "Epoch 74/100\n",
            "642/642 [==============================] - 1s 1ms/step - loss: -69234.5345 - accuracy: 0.0000e+00 - val_loss: -69999.2734 - val_accuracy: 0.0000e+00\n",
            "Epoch 75/100\n",
            "642/642 [==============================] - 1s 2ms/step - loss: -70301.6243 - accuracy: 0.0000e+00 - val_loss: -70939.6641 - val_accuracy: 0.0000e+00\n",
            "Epoch 76/100\n",
            "642/642 [==============================] - 1s 1ms/step - loss: -71255.2949 - accuracy: 0.0000e+00 - val_loss: -71880.0469 - val_accuracy: 0.0000e+00\n",
            "Epoch 77/100\n",
            "642/642 [==============================] - 1s 1ms/step - loss: -72059.4818 - accuracy: 0.0000e+00 - val_loss: -72820.8672 - val_accuracy: 0.0000e+00\n",
            "Epoch 78/100\n",
            "642/642 [==============================] - 1s 1ms/step - loss: -73015.3467 - accuracy: 0.0000e+00 - val_loss: -73761.3750 - val_accuracy: 0.0000e+00\n",
            "Epoch 79/100\n",
            "642/642 [==============================] - 1s 2ms/step - loss: -74086.7923 - accuracy: 0.0000e+00 - val_loss: -74701.9609 - val_accuracy: 0.0000e+00\n",
            "Epoch 80/100\n",
            "642/642 [==============================] - 1s 2ms/step - loss: -75059.1877 - accuracy: 0.0000e+00 - val_loss: -75642.1562 - val_accuracy: 0.0000e+00\n",
            "Epoch 81/100\n",
            "642/642 [==============================] - 1s 2ms/step - loss: -75887.9812 - accuracy: 0.0000e+00 - val_loss: -76582.8594 - val_accuracy: 0.0000e+00\n",
            "Epoch 82/100\n",
            "642/642 [==============================] - 1s 2ms/step - loss: -76804.2019 - accuracy: 0.0000e+00 - val_loss: -77523.4141 - val_accuracy: 0.0000e+00\n",
            "Epoch 83/100\n",
            "642/642 [==============================] - 1s 1ms/step - loss: -77807.2102 - accuracy: 0.0000e+00 - val_loss: -78463.6406 - val_accuracy: 0.0000e+00\n",
            "Epoch 84/100\n",
            "642/642 [==============================] - 1s 1ms/step - loss: -78877.9551 - accuracy: 0.0000e+00 - val_loss: -79403.9844 - val_accuracy: 0.0000e+00\n",
            "Epoch 85/100\n",
            "642/642 [==============================] - 1s 1ms/step - loss: -79616.0718 - accuracy: 0.0000e+00 - val_loss: -80344.9219 - val_accuracy: 0.0000e+00\n",
            "Epoch 86/100\n",
            "642/642 [==============================] - 1s 2ms/step - loss: -80593.7210 - accuracy: 0.0000e+00 - val_loss: -81285.6562 - val_accuracy: 0.0000e+00\n",
            "Epoch 87/100\n",
            "642/642 [==============================] - 1s 1ms/step - loss: -81600.2285 - accuracy: 0.0000e+00 - val_loss: -82225.7812 - val_accuracy: 0.0000e+00\n",
            "Epoch 88/100\n",
            "642/642 [==============================] - 1s 2ms/step - loss: -82476.7989 - accuracy: 0.0000e+00 - val_loss: -83166.2031 - val_accuracy: 0.0000e+00\n",
            "Epoch 89/100\n",
            "642/642 [==============================] - 1s 2ms/step - loss: -83441.9327 - accuracy: 0.0000e+00 - val_loss: -84106.8047 - val_accuracy: 0.0000e+00\n",
            "Epoch 90/100\n",
            "642/642 [==============================] - 1s 1ms/step - loss: -84401.2518 - accuracy: 0.0000e+00 - val_loss: -85047.1562 - val_accuracy: 0.0000e+00\n",
            "Epoch 91/100\n",
            "642/642 [==============================] - 1s 1ms/step - loss: -85313.4985 - accuracy: 0.0000e+00 - val_loss: -85987.8281 - val_accuracy: 0.0000e+00\n",
            "Epoch 92/100\n",
            "642/642 [==============================] - 1s 1ms/step - loss: -85978.4564 - accuracy: 0.0000e+00 - val_loss: -86928.4766 - val_accuracy: 0.0000e+00\n",
            "Epoch 93/100\n",
            "642/642 [==============================] - 1s 1ms/step - loss: -87253.3378 - accuracy: 0.0000e+00 - val_loss: -87868.8203 - val_accuracy: 0.0000e+00\n",
            "Epoch 94/100\n",
            "642/642 [==============================] - 1s 2ms/step - loss: -88272.5617 - accuracy: 0.0000e+00 - val_loss: -88809.1719 - val_accuracy: 0.0000e+00\n",
            "Epoch 95/100\n",
            "642/642 [==============================] - 1s 2ms/step - loss: -89005.6815 - accuracy: 0.0000e+00 - val_loss: -89749.8516 - val_accuracy: 0.0000e+00\n",
            "Epoch 96/100\n",
            "642/642 [==============================] - 1s 1ms/step - loss: -89919.8251 - accuracy: 0.0000e+00 - val_loss: -90690.2109 - val_accuracy: 0.0000e+00\n",
            "Epoch 97/100\n",
            "642/642 [==============================] - 1s 1ms/step - loss: -91222.9178 - accuracy: 0.0000e+00 - val_loss: -91630.5078 - val_accuracy: 0.0000e+00\n",
            "Epoch 98/100\n",
            "642/642 [==============================] - 1s 1ms/step - loss: -91855.8323 - accuracy: 0.0000e+00 - val_loss: -92571.0547 - val_accuracy: 0.0000e+00\n",
            "Epoch 99/100\n",
            "642/642 [==============================] - 1s 2ms/step - loss: -92705.4495 - accuracy: 0.0000e+00 - val_loss: -93511.6719 - val_accuracy: 0.0000e+00\n",
            "Epoch 100/100\n",
            "642/642 [==============================] - 1s 1ms/step - loss: -93806.5827 - accuracy: 0.0000e+00 - val_loss: -94451.9531 - val_accuracy: 0.0000e+00\n"
          ],
          "name": "stdout"
        }
      ]
    },
    {
      "cell_type": "code",
      "metadata": {
        "id": "9OiTtL21PdEh"
      },
      "source": [
        "y_pred=model.predict(X_test)"
      ],
      "execution_count": 16,
      "outputs": []
    },
    {
      "cell_type": "code",
      "metadata": {
        "colab": {
          "base_uri": "https://localhost:8080/"
        },
        "id": "mKUEQlKAP9bi",
        "outputId": "94572f61-ec34-4cff-e41e-33716012f36f"
      },
      "source": [
        "accuracy = model.evaluate(X_test, y_test)\n",
        "print(\"%s: %.2f%%\" % (model.metrics_names[1], accuracy[1]*100))"
      ],
      "execution_count": 17,
      "outputs": [
        {
          "output_type": "stream",
          "text": [
            "141/141 [==============================] - 0s 1ms/step - loss: -94239.3438 - accuracy: 0.0000e+00\n",
            "accuracy: 0.00%\n"
          ],
          "name": "stdout"
        }
      ]
    },
    {
      "cell_type": "code",
      "metadata": {
        "id": "CY-Wmv6lQCJW"
      },
      "source": [
        "#Getting accuracy 0% for backpropagation method, therefore applying hyperparameter method\n",
        "\n",
        "#building the new model\n",
        "def prep_model(hidden_dim):\n",
        "    model = Sequential()\n",
        "    for i in range(1,len(hidden_dim)-1):\n",
        "        if (i==1):\n",
        "            model.add(Dense(hidden_dim[i],input_dim=hidden_dim[0],activation=\"relu\"))\n",
        "        else:\n",
        "            model.add(Dense(hidden_dim[i],activation=\"relu\"))\n",
        "    model.add(Dense(hidden_dim[-1],kernel_initializer=\"normal\",activation=\"linear\"))\n",
        "    model.compile(loss=\"mean_squared_error\",optimizer = \"adam\",metrics = [\"mse\"])\n",
        "    return model  "
      ],
      "execution_count": 18,
      "outputs": []
    },
    {
      "cell_type": "code",
      "metadata": {
        "colab": {
          "base_uri": "https://localhost:8080/"
        },
        "id": "dyL2im6IUwIk",
        "outputId": "9f43de39-9e52-4d68-a5a5-e5d92999be89"
      },
      "source": [
        "new_model = prep_model([1])\n",
        "History=new_model.fit(X_train,y_train,epochs=150)\n",
        "pred_train = new_model.predict(X_train)"
      ],
      "execution_count": 19,
      "outputs": [
        {
          "output_type": "stream",
          "text": [
            "Epoch 1/150\n",
            "329/329 [==============================] - 8s 719us/step - loss: 6267.9715 - mse: 6267.9715\n",
            "Epoch 2/150\n",
            "329/329 [==============================] - 0s 746us/step - loss: 203.2725 - mse: 203.2725\n",
            "Epoch 3/150\n",
            "329/329 [==============================] - 0s 818us/step - loss: 195.8946 - mse: 195.8946\n",
            "Epoch 4/150\n",
            "329/329 [==============================] - 0s 813us/step - loss: 184.5236 - mse: 184.5236\n",
            "Epoch 5/150\n",
            "329/329 [==============================] - 0s 803us/step - loss: 169.2698 - mse: 169.2698\n",
            "Epoch 6/150\n",
            "329/329 [==============================] - 0s 748us/step - loss: 153.8520 - mse: 153.8520\n",
            "Epoch 7/150\n",
            "329/329 [==============================] - 0s 801us/step - loss: 141.9597 - mse: 141.9597\n",
            "Epoch 8/150\n",
            "329/329 [==============================] - 0s 762us/step - loss: 127.5830 - mse: 127.5830\n",
            "Epoch 9/150\n",
            "329/329 [==============================] - 0s 801us/step - loss: 113.0919 - mse: 113.0919\n",
            "Epoch 10/150\n",
            "329/329 [==============================] - 0s 812us/step - loss: 96.6184 - mse: 96.6184\n",
            "Epoch 11/150\n",
            "329/329 [==============================] - 0s 819us/step - loss: 83.7593 - mse: 83.7593\n",
            "Epoch 12/150\n",
            "329/329 [==============================] - 0s 860us/step - loss: 71.7917 - mse: 71.7917\n",
            "Epoch 13/150\n",
            "329/329 [==============================] - 0s 791us/step - loss: 59.3384 - mse: 59.3384\n",
            "Epoch 14/150\n",
            "329/329 [==============================] - 0s 816us/step - loss: 49.3563 - mse: 49.3563\n",
            "Epoch 15/150\n",
            "329/329 [==============================] - 0s 748us/step - loss: 40.9124 - mse: 40.9124\n",
            "Epoch 16/150\n",
            "329/329 [==============================] - 0s 772us/step - loss: 34.2981 - mse: 34.2981\n",
            "Epoch 17/150\n",
            "329/329 [==============================] - 0s 804us/step - loss: 27.9881 - mse: 27.9881\n",
            "Epoch 18/150\n",
            "329/329 [==============================] - 0s 807us/step - loss: 24.9016 - mse: 24.9016\n",
            "Epoch 19/150\n",
            "329/329 [==============================] - 0s 794us/step - loss: 20.6136 - mse: 20.6136\n",
            "Epoch 20/150\n",
            "329/329 [==============================] - 0s 813us/step - loss: 16.7055 - mse: 16.7055\n",
            "Epoch 21/150\n",
            "329/329 [==============================] - 0s 812us/step - loss: 15.8437 - mse: 15.8437\n",
            "Epoch 22/150\n",
            "329/329 [==============================] - 0s 762us/step - loss: 14.1784 - mse: 14.1784\n",
            "Epoch 23/150\n",
            "329/329 [==============================] - 0s 854us/step - loss: 10.2128 - mse: 10.2128\n",
            "Epoch 24/150\n",
            "329/329 [==============================] - 0s 822us/step - loss: 10.2960 - mse: 10.2960\n",
            "Epoch 25/150\n",
            "329/329 [==============================] - 0s 832us/step - loss: 8.2177 - mse: 8.2177\n",
            "Epoch 26/150\n",
            "329/329 [==============================] - 0s 794us/step - loss: 7.9679 - mse: 7.9679\n",
            "Epoch 27/150\n",
            "329/329 [==============================] - 0s 815us/step - loss: 6.6897 - mse: 6.6897\n",
            "Epoch 28/150\n",
            "329/329 [==============================] - 0s 796us/step - loss: 6.5570 - mse: 6.5570\n",
            "Epoch 29/150\n",
            "329/329 [==============================] - 0s 832us/step - loss: 5.6742 - mse: 5.6742\n",
            "Epoch 30/150\n",
            "329/329 [==============================] - 0s 808us/step - loss: 5.5635 - mse: 5.5635\n",
            "Epoch 31/150\n",
            "329/329 [==============================] - 0s 836us/step - loss: 4.1578 - mse: 4.1578\n",
            "Epoch 32/150\n",
            "329/329 [==============================] - 0s 808us/step - loss: 4.0394 - mse: 4.0394\n",
            "Epoch 33/150\n",
            "329/329 [==============================] - 0s 809us/step - loss: 3.4029 - mse: 3.4029\n",
            "Epoch 34/150\n",
            "329/329 [==============================] - 0s 812us/step - loss: 3.4782 - mse: 3.4782\n",
            "Epoch 35/150\n",
            "329/329 [==============================] - 0s 849us/step - loss: 3.6213 - mse: 3.6213\n",
            "Epoch 36/150\n",
            "329/329 [==============================] - 0s 812us/step - loss: 3.2832 - mse: 3.2832\n",
            "Epoch 37/150\n",
            "329/329 [==============================] - 0s 827us/step - loss: 2.9621 - mse: 2.9621\n",
            "Epoch 38/150\n",
            "329/329 [==============================] - 0s 851us/step - loss: 2.8377 - mse: 2.8377\n",
            "Epoch 39/150\n",
            "329/329 [==============================] - 0s 823us/step - loss: 2.7114 - mse: 2.7114\n",
            "Epoch 40/150\n",
            "329/329 [==============================] - 0s 815us/step - loss: 3.0988 - mse: 3.0988\n",
            "Epoch 41/150\n",
            "329/329 [==============================] - 0s 882us/step - loss: 2.8139 - mse: 2.8139\n",
            "Epoch 42/150\n",
            "329/329 [==============================] - 0s 763us/step - loss: 2.8118 - mse: 2.8118\n",
            "Epoch 43/150\n",
            "329/329 [==============================] - 0s 824us/step - loss: 2.5685 - mse: 2.5685\n",
            "Epoch 44/150\n",
            "329/329 [==============================] - 0s 812us/step - loss: 2.5270 - mse: 2.5270\n",
            "Epoch 45/150\n",
            "329/329 [==============================] - 0s 859us/step - loss: 2.2759 - mse: 2.2759\n",
            "Epoch 46/150\n",
            "329/329 [==============================] - 0s 806us/step - loss: 2.2896 - mse: 2.2896\n",
            "Epoch 47/150\n",
            "329/329 [==============================] - 0s 810us/step - loss: 2.5624 - mse: 2.5624\n",
            "Epoch 48/150\n",
            "329/329 [==============================] - 0s 813us/step - loss: 2.2845 - mse: 2.2845\n",
            "Epoch 49/150\n",
            "329/329 [==============================] - 0s 793us/step - loss: 2.2128 - mse: 2.2128\n",
            "Epoch 50/150\n",
            "329/329 [==============================] - 0s 837us/step - loss: 2.2476 - mse: 2.2476\n",
            "Epoch 51/150\n",
            "329/329 [==============================] - 0s 815us/step - loss: 2.0381 - mse: 2.0381\n",
            "Epoch 52/150\n",
            "329/329 [==============================] - 0s 817us/step - loss: 2.1756 - mse: 2.1756\n",
            "Epoch 53/150\n",
            "329/329 [==============================] - 0s 826us/step - loss: 2.0119 - mse: 2.0119\n",
            "Epoch 54/150\n",
            "329/329 [==============================] - 0s 757us/step - loss: 1.9906 - mse: 1.9906\n",
            "Epoch 55/150\n",
            "329/329 [==============================] - 0s 835us/step - loss: 1.9084 - mse: 1.9084\n",
            "Epoch 56/150\n",
            "329/329 [==============================] - 0s 887us/step - loss: 1.8682 - mse: 1.8682\n",
            "Epoch 57/150\n",
            "329/329 [==============================] - 0s 814us/step - loss: 1.8092 - mse: 1.8092\n",
            "Epoch 58/150\n",
            "329/329 [==============================] - 0s 881us/step - loss: 1.9567 - mse: 1.9567\n",
            "Epoch 59/150\n",
            "329/329 [==============================] - 0s 834us/step - loss: 1.7472 - mse: 1.7472\n",
            "Epoch 60/150\n",
            "329/329 [==============================] - 0s 803us/step - loss: 1.7522 - mse: 1.7522\n",
            "Epoch 61/150\n",
            "329/329 [==============================] - 0s 885us/step - loss: 1.8751 - mse: 1.8751\n",
            "Epoch 62/150\n",
            "329/329 [==============================] - 0s 816us/step - loss: 1.7722 - mse: 1.7722\n",
            "Epoch 63/150\n",
            "329/329 [==============================] - 0s 796us/step - loss: 1.7718 - mse: 1.7718\n",
            "Epoch 64/150\n",
            "329/329 [==============================] - 0s 837us/step - loss: 1.6530 - mse: 1.6530\n",
            "Epoch 65/150\n",
            "329/329 [==============================] - 0s 865us/step - loss: 1.8711 - mse: 1.8711\n",
            "Epoch 66/150\n",
            "329/329 [==============================] - 0s 834us/step - loss: 1.6708 - mse: 1.6708\n",
            "Epoch 67/150\n",
            "329/329 [==============================] - 0s 856us/step - loss: 1.7871 - mse: 1.7871\n",
            "Epoch 68/150\n",
            "329/329 [==============================] - 0s 825us/step - loss: 1.6035 - mse: 1.6035\n",
            "Epoch 69/150\n",
            "329/329 [==============================] - 0s 881us/step - loss: 1.5780 - mse: 1.5780\n",
            "Epoch 70/150\n",
            "329/329 [==============================] - 0s 899us/step - loss: 1.6558 - mse: 1.6558\n",
            "Epoch 71/150\n",
            "329/329 [==============================] - 0s 830us/step - loss: 1.6074 - mse: 1.6074\n",
            "Epoch 72/150\n",
            "329/329 [==============================] - 0s 898us/step - loss: 1.6590 - mse: 1.6590\n",
            "Epoch 73/150\n",
            "329/329 [==============================] - 0s 861us/step - loss: 1.5727 - mse: 1.5727\n",
            "Epoch 74/150\n",
            "329/329 [==============================] - 0s 782us/step - loss: 1.4538 - mse: 1.4538\n",
            "Epoch 75/150\n",
            "329/329 [==============================] - 0s 756us/step - loss: 1.4797 - mse: 1.4797\n",
            "Epoch 76/150\n",
            "329/329 [==============================] - 0s 756us/step - loss: 1.3850 - mse: 1.3850\n",
            "Epoch 77/150\n",
            "329/329 [==============================] - 0s 855us/step - loss: 1.5415 - mse: 1.5415\n",
            "Epoch 78/150\n",
            "329/329 [==============================] - 0s 794us/step - loss: 1.4573 - mse: 1.4573\n",
            "Epoch 79/150\n",
            "329/329 [==============================] - 0s 822us/step - loss: 1.4926 - mse: 1.4926\n",
            "Epoch 80/150\n",
            "329/329 [==============================] - 0s 819us/step - loss: 1.4355 - mse: 1.4355\n",
            "Epoch 81/150\n",
            "329/329 [==============================] - 0s 756us/step - loss: 1.4864 - mse: 1.4864\n",
            "Epoch 82/150\n",
            "329/329 [==============================] - 0s 832us/step - loss: 1.4900 - mse: 1.4900\n",
            "Epoch 83/150\n",
            "329/329 [==============================] - 0s 804us/step - loss: 1.4236 - mse: 1.4236\n",
            "Epoch 84/150\n",
            "329/329 [==============================] - 0s 795us/step - loss: 1.4285 - mse: 1.4285\n",
            "Epoch 85/150\n",
            "329/329 [==============================] - 0s 843us/step - loss: 1.3839 - mse: 1.3839\n",
            "Epoch 86/150\n",
            "329/329 [==============================] - 0s 820us/step - loss: 1.4338 - mse: 1.4338\n",
            "Epoch 87/150\n",
            "329/329 [==============================] - 0s 845us/step - loss: 1.3778 - mse: 1.3778\n",
            "Epoch 88/150\n",
            "329/329 [==============================] - 0s 839us/step - loss: 1.3612 - mse: 1.3612\n",
            "Epoch 89/150\n",
            "329/329 [==============================] - 0s 834us/step - loss: 1.4203 - mse: 1.4203\n",
            "Epoch 90/150\n",
            "329/329 [==============================] - 0s 763us/step - loss: 1.3736 - mse: 1.3736\n",
            "Epoch 91/150\n",
            "329/329 [==============================] - 0s 845us/step - loss: 1.4375 - mse: 1.4375\n",
            "Epoch 92/150\n",
            "329/329 [==============================] - 0s 833us/step - loss: 1.4343 - mse: 1.4343\n",
            "Epoch 93/150\n",
            "329/329 [==============================] - 0s 835us/step - loss: 1.3869 - mse: 1.3869\n",
            "Epoch 94/150\n",
            "329/329 [==============================] - 0s 843us/step - loss: 1.4499 - mse: 1.4499\n",
            "Epoch 95/150\n",
            "329/329 [==============================] - 0s 789us/step - loss: 1.3695 - mse: 1.3695\n",
            "Epoch 96/150\n",
            "329/329 [==============================] - 0s 762us/step - loss: 1.3556 - mse: 1.3556\n",
            "Epoch 97/150\n",
            "329/329 [==============================] - 0s 858us/step - loss: 1.3803 - mse: 1.3803\n",
            "Epoch 98/150\n",
            "329/329 [==============================] - 0s 822us/step - loss: 1.4215 - mse: 1.4215\n",
            "Epoch 99/150\n",
            "329/329 [==============================] - 0s 847us/step - loss: 1.3163 - mse: 1.3163\n",
            "Epoch 100/150\n",
            "329/329 [==============================] - 0s 809us/step - loss: 1.3385 - mse: 1.3385\n",
            "Epoch 101/150\n",
            "329/329 [==============================] - 0s 831us/step - loss: 1.3911 - mse: 1.3911\n",
            "Epoch 102/150\n",
            "329/329 [==============================] - 0s 902us/step - loss: 1.4150 - mse: 1.4150\n",
            "Epoch 103/150\n",
            "329/329 [==============================] - 0s 808us/step - loss: 1.4202 - mse: 1.4202\n",
            "Epoch 104/150\n",
            "329/329 [==============================] - 0s 833us/step - loss: 1.4046 - mse: 1.4046\n",
            "Epoch 105/150\n",
            "329/329 [==============================] - 0s 890us/step - loss: 1.3931 - mse: 1.3931\n",
            "Epoch 106/150\n",
            "329/329 [==============================] - 0s 849us/step - loss: 1.3093 - mse: 1.3093\n",
            "Epoch 107/150\n",
            "329/329 [==============================] - 0s 834us/step - loss: 1.4106 - mse: 1.4106\n",
            "Epoch 108/150\n",
            "329/329 [==============================] - 0s 803us/step - loss: 1.3988 - mse: 1.3988\n",
            "Epoch 109/150\n",
            "329/329 [==============================] - 0s 847us/step - loss: 1.4498 - mse: 1.4498\n",
            "Epoch 110/150\n",
            "329/329 [==============================] - 0s 869us/step - loss: 1.4462 - mse: 1.4462\n",
            "Epoch 111/150\n",
            "329/329 [==============================] - 0s 808us/step - loss: 1.4193 - mse: 1.4193\n",
            "Epoch 112/150\n",
            "329/329 [==============================] - 0s 834us/step - loss: 1.3380 - mse: 1.3380\n",
            "Epoch 113/150\n",
            "329/329 [==============================] - 0s 885us/step - loss: 1.2812 - mse: 1.2812\n",
            "Epoch 114/150\n",
            "329/329 [==============================] - 0s 822us/step - loss: 1.4390 - mse: 1.4390\n",
            "Epoch 115/150\n",
            "329/329 [==============================] - 0s 853us/step - loss: 1.3140 - mse: 1.3140\n",
            "Epoch 116/150\n",
            "329/329 [==============================] - 0s 840us/step - loss: 1.2988 - mse: 1.2988\n",
            "Epoch 117/150\n",
            "329/329 [==============================] - 0s 833us/step - loss: 1.2599 - mse: 1.2599\n",
            "Epoch 118/150\n",
            "329/329 [==============================] - 0s 893us/step - loss: 1.2693 - mse: 1.2693\n",
            "Epoch 119/150\n",
            "329/329 [==============================] - 0s 859us/step - loss: 1.3681 - mse: 1.3681\n",
            "Epoch 120/150\n",
            "329/329 [==============================] - 0s 864us/step - loss: 1.3122 - mse: 1.3122\n",
            "Epoch 121/150\n",
            "329/329 [==============================] - 0s 846us/step - loss: 1.2534 - mse: 1.2534\n",
            "Epoch 122/150\n",
            "329/329 [==============================] - 0s 841us/step - loss: 1.3805 - mse: 1.3805\n",
            "Epoch 123/150\n",
            "329/329 [==============================] - 0s 888us/step - loss: 1.3044 - mse: 1.3044\n",
            "Epoch 124/150\n",
            "329/329 [==============================] - 0s 957us/step - loss: 1.3152 - mse: 1.3152\n",
            "Epoch 125/150\n",
            "329/329 [==============================] - 0s 833us/step - loss: 1.3903 - mse: 1.3903\n",
            "Epoch 126/150\n",
            "329/329 [==============================] - 0s 836us/step - loss: 1.2480 - mse: 1.2480\n",
            "Epoch 127/150\n",
            "329/329 [==============================] - 0s 855us/step - loss: 1.3011 - mse: 1.3011\n",
            "Epoch 128/150\n",
            "329/329 [==============================] - 0s 846us/step - loss: 1.3476 - mse: 1.3476\n",
            "Epoch 129/150\n",
            "329/329 [==============================] - 0s 830us/step - loss: 1.3277 - mse: 1.3277\n",
            "Epoch 130/150\n",
            "329/329 [==============================] - 0s 853us/step - loss: 1.3053 - mse: 1.3053\n",
            "Epoch 131/150\n",
            "329/329 [==============================] - 0s 823us/step - loss: 1.3092 - mse: 1.3092\n",
            "Epoch 132/150\n",
            "329/329 [==============================] - 0s 810us/step - loss: 1.3359 - mse: 1.3359\n",
            "Epoch 133/150\n",
            "329/329 [==============================] - 0s 863us/step - loss: 1.3581 - mse: 1.3581\n",
            "Epoch 134/150\n",
            "329/329 [==============================] - 0s 863us/step - loss: 1.3297 - mse: 1.3297\n",
            "Epoch 135/150\n",
            "329/329 [==============================] - 0s 829us/step - loss: 1.3658 - mse: 1.3658\n",
            "Epoch 136/150\n",
            "329/329 [==============================] - 0s 872us/step - loss: 1.3524 - mse: 1.3524\n",
            "Epoch 137/150\n",
            "329/329 [==============================] - 0s 865us/step - loss: 1.3795 - mse: 1.3795\n",
            "Epoch 138/150\n",
            "329/329 [==============================] - 0s 834us/step - loss: 1.3074 - mse: 1.3074\n",
            "Epoch 139/150\n",
            "329/329 [==============================] - 0s 869us/step - loss: 1.2101 - mse: 1.2101\n",
            "Epoch 140/150\n",
            "329/329 [==============================] - 0s 869us/step - loss: 1.3525 - mse: 1.3525\n",
            "Epoch 141/150\n",
            "329/329 [==============================] - 0s 856us/step - loss: 1.2750 - mse: 1.2750\n",
            "Epoch 142/150\n",
            "329/329 [==============================] - 0s 885us/step - loss: 1.3862 - mse: 1.3862\n",
            "Epoch 143/150\n",
            "329/329 [==============================] - 0s 824us/step - loss: 1.3745 - mse: 1.3745\n",
            "Epoch 144/150\n",
            "329/329 [==============================] - 0s 873us/step - loss: 1.3300 - mse: 1.3300\n",
            "Epoch 145/150\n",
            "329/329 [==============================] - 0s 858us/step - loss: 1.3435 - mse: 1.3435\n",
            "Epoch 146/150\n",
            "329/329 [==============================] - 0s 877us/step - loss: 1.2716 - mse: 1.2716\n",
            "Epoch 147/150\n",
            "329/329 [==============================] - 0s 843us/step - loss: 1.3259 - mse: 1.3259\n",
            "Epoch 148/150\n",
            "329/329 [==============================] - 0s 844us/step - loss: 1.2718 - mse: 1.2718\n",
            "Epoch 149/150\n",
            "329/329 [==============================] - 0s 841us/step - loss: 1.3213 - mse: 1.3213\n",
            "Epoch 150/150\n",
            "329/329 [==============================] - 0s 812us/step - loss: 1.2890 - mse: 1.2890\n"
          ],
          "name": "stdout"
        }
      ]
    },
    {
      "cell_type": "code",
      "metadata": {
        "colab": {
          "base_uri": "https://localhost:8080/"
        },
        "id": "V5aWzNH6U1Uj",
        "outputId": "056dd63c-54b2-49bd-9c63-07b2837a3169"
      },
      "source": [
        "# Predicting the Test set results\n",
        "y_pred = new_model.predict(X_test)\n",
        "y_pred"
      ],
      "execution_count": 20,
      "outputs": [
        {
          "output_type": "execute_result",
          "data": {
            "text/plain": [
              "array([[131.38275],\n",
              "       [160.63376],\n",
              "       [132.83496],\n",
              "       ...,\n",
              "       [133.44194],\n",
              "       [133.25601],\n",
              "       [133.97346]], dtype=float32)"
            ]
          },
          "metadata": {
            "tags": []
          },
          "execution_count": 20
        }
      ]
    },
    {
      "cell_type": "code",
      "metadata": {
        "colab": {
          "base_uri": "https://localhost:8080/"
        },
        "id": "OMbtGZ3WVIp-",
        "outputId": "39ea2de9-04b4-4d3c-b600-d5ec3862915b"
      },
      "source": [
        "from sklearn.metrics import r2_score\n",
        "result = r2_score(y_test, y_pred)\n",
        "print(result)"
      ],
      "execution_count": 21,
      "outputs": [
        {
          "output_type": "stream",
          "text": [
            "0.9951078834139945\n"
          ],
          "name": "stdout"
        }
      ]
    },
    {
      "cell_type": "code",
      "metadata": {
        "colab": {
          "base_uri": "https://localhost:8080/",
          "height": 295
        },
        "id": "TEb3p7pNVMTf",
        "outputId": "f0a526bd-541c-42e4-deb1-d1d0f83faf13"
      },
      "source": [
        "#from hyperparameter method got accuracy 99%\n",
        "\n",
        "#summarize history for accuracy\n",
        "import matplotlib.pyplot as plt\n",
        "plt.plot(History.history['mse'])\n",
        "plt.title('model accuracy')\n",
        "plt.ylabel('mse')\n",
        "plt.xlabel('epoch')\n",
        "plt.legend(['train','test'], loc='upper right')\n",
        "plt.show()"
      ],
      "execution_count": 22,
      "outputs": [
        {
          "output_type": "display_data",
          "data": {
            "image/png": "[encoded data removed]",
            "text/plain": [
              "<Figure size 432x288 with 1 Axes>"
            ]
          },
          "metadata": {
            "tags": [],
            "needs_background": "light"
          }
        }
      ]
    },
    {
      "cell_type": "code",
      "metadata": {
        "colab": {
          "base_uri": "https://localhost:8080/",
          "height": 295
        },
        "id": "gdYvYdOOVuv_",
        "outputId": "db8f97be-9cfa-4ec1-b742-d37525945315"
      },
      "source": [
        "# summarize history for accuracy\n",
        "import matplotlib.pyplot as plt\n",
        "plt.plot(History.history['loss'])\n",
        "plt.title('model loss')\n",
        "plt.ylabel('mse')\n",
        "plt.xlabel('epoch')\n",
        "plt.legend(['train','test'], loc='upper right')\n",
        "plt.show()"
      ],
      "execution_count": 23,
      "outputs": [
        {
          "output_type": "display_data",
          "data": {
            "image/png": "[encoded data removed]",
            "text/plain": [
              "<Figure size 432x288 with 1 Axes>"
            ]
          },
          "metadata": {
            "tags": [],
            "needs_background": "light"
          }
        }
      ]
    }
  ]
}