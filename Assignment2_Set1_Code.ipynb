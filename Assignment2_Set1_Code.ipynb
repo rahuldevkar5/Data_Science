{
  "nbformat": 4,
  "nbformat_minor": 0,
  "metadata": {
    "colab": {
      "name": "Assignment2_Set1_Code.ipynb",
      "provenance": [],
      "authorship_tag": "ABX9TyMisiUbqKpk2dO2djSJO+o+",
      "include_colab_link": true
    },
    "kernelspec": {
      "name": "python3",
      "display_name": "Python 3"
    },
    "language_info": {
      "name": "python"
    }
  },
  "cells": [
    {
      "cell_type": "markdown",
      "metadata": {
        "id": "view-in-github",
        "colab_type": "text"
      },
      "source": [
        "<a href=\"https://colab.research.google.com/github/rahuldevkar5/Data_Science/blob/main/Assignment2_Set1_Code.ipynb\" target=\"_parent\"><img src=\"https://colab.research.google.com/assets/colab-badge.svg\" alt=\"Open In Colab\"/></a>"
      ]
    },
    {
      "cell_type": "code",
      "metadata": {
        "colab": {
          "base_uri": "https://localhost:8080/",
          "height": 514
        },
        "id": "5muFRxCAuW84",
        "outputId": "eee38b37-223c-4840-a2e8-eee81cdd1566"
      },
      "source": [
        "import pandas as pd\n",
        "companies=pd.read_excel(\"/content/Set1 Q1.xlsx\")\n",
        "companies\n"
      ],
      "execution_count": 1,
      "outputs": [
        {
          "output_type": "execute_result",
          "data": {
            "text/html": [
              "<div>\n",
              "<style scoped>\n",
              "    .dataframe tbody tr th:only-of-type {\n",
              "        vertical-align: middle;\n",
              "    }\n",
              "\n",
              "    .dataframe tbody tr th {\n",
              "        vertical-align: top;\n",
              "    }\n",
              "\n",
              "    .dataframe thead th {\n",
              "        text-align: right;\n",
              "    }\n",
              "</style>\n",
              "<table border=\"1\" class=\"dataframe\">\n",
              "  <thead>\n",
              "    <tr style=\"text-align: right;\">\n",
              "      <th></th>\n",
              "      <th>Name of company</th>\n",
              "      <th>Measure X</th>\n",
              "    </tr>\n",
              "  </thead>\n",
              "  <tbody>\n",
              "    <tr>\n",
              "      <th>0</th>\n",
              "      <td>Allied Signal</td>\n",
              "      <td>0.2423</td>\n",
              "    </tr>\n",
              "    <tr>\n",
              "      <th>1</th>\n",
              "      <td>Bankers Trust</td>\n",
              "      <td>0.2553</td>\n",
              "    </tr>\n",
              "    <tr>\n",
              "      <th>2</th>\n",
              "      <td>General Mills</td>\n",
              "      <td>0.2541</td>\n",
              "    </tr>\n",
              "    <tr>\n",
              "      <th>3</th>\n",
              "      <td>ITT Industries</td>\n",
              "      <td>0.2414</td>\n",
              "    </tr>\n",
              "    <tr>\n",
              "      <th>4</th>\n",
              "      <td>J.P.Morgan &amp; Co.</td>\n",
              "      <td>0.2962</td>\n",
              "    </tr>\n",
              "    <tr>\n",
              "      <th>5</th>\n",
              "      <td>Lehman Brothers</td>\n",
              "      <td>0.2825</td>\n",
              "    </tr>\n",
              "    <tr>\n",
              "      <th>6</th>\n",
              "      <td>Marriott</td>\n",
              "      <td>0.2581</td>\n",
              "    </tr>\n",
              "    <tr>\n",
              "      <th>7</th>\n",
              "      <td>MCI</td>\n",
              "      <td>0.2439</td>\n",
              "    </tr>\n",
              "    <tr>\n",
              "      <th>8</th>\n",
              "      <td>Merrill Lynch</td>\n",
              "      <td>0.4026</td>\n",
              "    </tr>\n",
              "    <tr>\n",
              "      <th>9</th>\n",
              "      <td>Microsoft</td>\n",
              "      <td>0.3295</td>\n",
              "    </tr>\n",
              "    <tr>\n",
              "      <th>10</th>\n",
              "      <td>Morgan Stanley</td>\n",
              "      <td>0.9136</td>\n",
              "    </tr>\n",
              "    <tr>\n",
              "      <th>11</th>\n",
              "      <td>Sun Microsystems</td>\n",
              "      <td>0.2599</td>\n",
              "    </tr>\n",
              "    <tr>\n",
              "      <th>12</th>\n",
              "      <td>Travelers</td>\n",
              "      <td>0.3942</td>\n",
              "    </tr>\n",
              "    <tr>\n",
              "      <th>13</th>\n",
              "      <td>US Airways</td>\n",
              "      <td>0.2671</td>\n",
              "    </tr>\n",
              "    <tr>\n",
              "      <th>14</th>\n",
              "      <td>Warner-Lambert</td>\n",
              "      <td>0.3500</td>\n",
              "    </tr>\n",
              "  </tbody>\n",
              "</table>\n",
              "</div>"
            ],
            "text/plain": [
              "     Name of company  Measure X\n",
              "0      Allied Signal     0.2423\n",
              "1      Bankers Trust     0.2553\n",
              "2      General Mills     0.2541\n",
              "3     ITT Industries     0.2414\n",
              "4   J.P.Morgan & Co.     0.2962\n",
              "5    Lehman Brothers     0.2825\n",
              "6           Marriott     0.2581\n",
              "7                MCI     0.2439\n",
              "8      Merrill Lynch     0.4026\n",
              "9          Microsoft     0.3295\n",
              "10    Morgan Stanley     0.9136\n",
              "11  Sun Microsystems     0.2599\n",
              "12         Travelers     0.3942\n",
              "13        US Airways     0.2671\n",
              "14    Warner-Lambert     0.3500"
            ]
          },
          "metadata": {
            "tags": []
          },
          "execution_count": 1
        }
      ]
    },
    {
      "cell_type": "code",
      "metadata": {
        "colab": {
          "base_uri": "https://localhost:8080/",
          "height": 295
        },
        "id": "Ot5ZqQFCvAuh",
        "outputId": "ec509b0a-4ed4-4015-9510-a6d6a11693d4"
      },
      "source": [
        "import seaborn as sn\n",
        "import matplotlib.pyplot as plt\n",
        "%matplotlib inline\n",
        "\n",
        "plt.boxplot(companies['Measure X'],vert= True);\n",
        "plt.ylabel(\"Name of company\");\n",
        "plt.xlabel(\"Measure X\");\n",
        "plt.title(\"Boxplot\")\n",
        "plt.show()"
      ],
      "execution_count": 2,
      "outputs": [
        {
          "output_type": "display_data",
          "data": {
            "image/png": "[encoded data removed]",
            "text/plain": [
              "<Figure size 432x288 with 1 Axes>"
            ]
          },
          "metadata": {
            "tags": [],
            "needs_background": "light"
          }
        }
      ]
    },
    {
      "cell_type": "code",
      "metadata": {
        "colab": {
          "base_uri": "https://localhost:8080/"
        },
        "id": "biIvPpKfwAZe",
        "outputId": "23a5153f-8a78-49d9-b394-a5b4d6a6f9d6"
      },
      "source": [
        "Q1=companies.quantile(0.25)\n",
        "Q3=companies.quantile(0.75)\n",
        "IQR= Q3-Q1\n",
        "print(IQR)\n"
      ],
      "execution_count": 3,
      "outputs": [
        {
          "output_type": "stream",
          "text": [
            "Measure X    0.08505\n",
            "dtype: float64\n"
          ],
          "name": "stdout"
        }
      ]
    },
    {
      "cell_type": "code",
      "metadata": {
        "colab": {
          "base_uri": "https://localhost:8080/"
        },
        "id": "Z44qmRfCwJ4c",
        "outputId": "1a134916-688c-45ac-bc04-cc2da89a3270"
      },
      "source": [
        "print(companies<(Q1-1.5*IQR))\n",
        "print(companies>(Q3+1.5*IQR))"
      ],
      "execution_count": 4,
      "outputs": [
        {
          "output_type": "stream",
          "text": [
            "    Measure X  Name of company\n",
            "0       False            False\n",
            "1       False            False\n",
            "2       False            False\n",
            "3       False            False\n",
            "4       False            False\n",
            "5       False            False\n",
            "6       False            False\n",
            "7       False            False\n",
            "8       False            False\n",
            "9       False            False\n",
            "10      False            False\n",
            "11      False            False\n",
            "12      False            False\n",
            "13      False            False\n",
            "14      False            False\n",
            "    Measure X  Name of company\n",
            "0       False            False\n",
            "1       False            False\n",
            "2       False            False\n",
            "3       False            False\n",
            "4       False            False\n",
            "5       False            False\n",
            "6       False            False\n",
            "7       False            False\n",
            "8       False            False\n",
            "9       False            False\n",
            "10       True            False\n",
            "11      False            False\n",
            "12      False            False\n",
            "13      False            False\n",
            "14      False            False\n"
          ],
          "name": "stdout"
        }
      ]
    },
    {
      "cell_type": "code",
      "metadata": {
        "id": "VsJTjipowTA7"
      },
      "source": [
        "outlier=0.9136"
      ],
      "execution_count": 5,
      "outputs": []
    },
    {
      "cell_type": "code",
      "metadata": {
        "colab": {
          "base_uri": "https://localhost:8080/"
        },
        "id": "NANk-Aw7wh5N",
        "outputId": "428178e3-7ad6-4a0e-e73a-0397100ad566"
      },
      "source": [
        "companies.mean()"
      ],
      "execution_count": 6,
      "outputs": [
        {
          "output_type": "execute_result",
          "data": {
            "text/plain": [
              "Measure X    0.332713\n",
              "dtype: float64"
            ]
          },
          "metadata": {
            "tags": []
          },
          "execution_count": 6
        }
      ]
    },
    {
      "cell_type": "code",
      "metadata": {
        "colab": {
          "base_uri": "https://localhost:8080/"
        },
        "id": "ouARs0ojwlvf",
        "outputId": "e43e3eeb-6409-4268-c139-a10f55158f86"
      },
      "source": [
        "companies.var()"
      ],
      "execution_count": 7,
      "outputs": [
        {
          "output_type": "execute_result",
          "data": {
            "text/plain": [
              "Measure X    0.028715\n",
              "dtype: float64"
            ]
          },
          "metadata": {
            "tags": []
          },
          "execution_count": 7
        }
      ]
    },
    {
      "cell_type": "code",
      "metadata": {
        "colab": {
          "base_uri": "https://localhost:8080/"
        },
        "id": "M0dYyBkZwyH3",
        "outputId": "b678ed79-4f53-4113-ec43-113fcbebb1c9"
      },
      "source": [
        "companies.std()"
      ],
      "execution_count": 8,
      "outputs": [
        {
          "output_type": "execute_result",
          "data": {
            "text/plain": [
              "Measure X    0.169454\n",
              "dtype: float64"
            ]
          },
          "metadata": {
            "tags": []
          },
          "execution_count": 8
        }
      ]
    },
    {
      "cell_type": "code",
      "metadata": {
        "id": "Ex2Bpkofw21r"
      },
      "source": [
        ""
      ],
      "execution_count": null,
      "outputs": []
    }
  ]
}