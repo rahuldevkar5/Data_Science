{
  "nbformat": 4,
  "nbformat_minor": 0,
  "metadata": {
    "colab": {
      "name": "Assignment1_Q23_Ans.ipynb",
      "provenance": [],
      "authorship_tag": "ABX9TyPLah/hf5cNGE1wdMbFcy0N",
      "include_colab_link": true
    },
    "kernelspec": {
      "name": "python3",
      "display_name": "Python 3"
    },
    "language_info": {
      "name": "python"
    }
  },
  "cells": [
    {
      "cell_type": "markdown",
      "metadata": {
        "id": "view-in-github",
        "colab_type": "text"
      },
      "source": [
        "<a href=\"https://colab.research.google.com/github/rahuldevkar5/Data_Science/blob/main/Assignment1_Q23_Ans.ipynb\" target=\"_parent\"><img src=\"https://colab.research.google.com/assets/colab-badge.svg\" alt=\"Open In Colab\"/></a>"
      ]
    },
    {
      "cell_type": "code",
      "metadata": {
        "id": "fnALYPwvkMAB"
      },
      "source": [
        "import scipy.stats as stats\n",
        "import numpy as np\n"
      ],
      "execution_count": null,
      "outputs": []
    },
    {
      "cell_type": "code",
      "metadata": {
        "id": "zYWoYFEbkXSK"
      },
      "source": [
        "#n=25    df=n-1=24"
      ],
      "execution_count": null,
      "outputs": []
    },
    {
      "cell_type": "code",
      "metadata": {
        "colab": {
          "base_uri": "https://localhost:8080/"
        },
        "id": "-TQ1wHdKkbRa",
        "outputId": "32cc1f6c-9fc6-4b0c-ccca-d1ba5217c79e"
      },
      "source": [
        "#when CI 95%\n",
        "stats.t.ppf(0.975,df=24)"
      ],
      "execution_count": null,
      "outputs": [
        {
          "output_type": "execute_result",
          "data": {
            "text/plain": [
              "2.0638985616280205"
            ]
          },
          "metadata": {
            "tags": []
          },
          "execution_count": 3
        }
      ]
    },
    {
      "cell_type": "code",
      "metadata": {
        "id": "bLohpD7Qkd_W",
        "colab": {
          "base_uri": "https://localhost:8080/"
        },
        "outputId": "cf2d6bac-3b85-407b-fe1a-e6d0d02c03c8"
      },
      "source": [
        "#when CI 96%\n",
        "stats.t.ppf(0.98,df=24)"
      ],
      "execution_count": null,
      "outputs": [
        {
          "output_type": "execute_result",
          "data": {
            "text/plain": [
              "2.1715446760080677"
            ]
          },
          "metadata": {
            "tags": []
          },
          "execution_count": 4
        }
      ]
    },
    {
      "cell_type": "code",
      "metadata": {
        "id": "8TAvJUmdkglu"
      },
      "source": [
        "#when CI 99%\n",
        "stats.t.ppf(0.995,df=24)"
      ],
      "execution_count": null,
      "outputs": []
    }
  ]
}