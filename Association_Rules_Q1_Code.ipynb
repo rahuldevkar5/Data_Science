{
  "nbformat": 4,
  "nbformat_minor": 0,
  "metadata": {
    "colab": {
      "name": "Association_Rules_Q1_Code.ipynb",
      "provenance": [],
      "authorship_tag": "ABX9TyPLIwGkrJHoAgW+J9pBH1hp",
      "include_colab_link": true
    },
    "kernelspec": {
      "name": "python3",
      "display_name": "Python 3"
    },
    "language_info": {
      "name": "python"
    }
  },
  "cells": [
    {
      "cell_type": "markdown",
      "metadata": {
        "id": "view-in-github",
        "colab_type": "text"
      },
      "source": [
        "<a href=\"https://colab.research.google.com/github/rahuldevkar5/Data_Science/blob/main/Association_Rules_Q1_Code.ipynb\" target=\"_parent\"><img src=\"https://colab.research.google.com/assets/colab-badge.svg\" alt=\"Open In Colab\"/></a>"
      ]
    },
    {
      "cell_type": "code",
      "metadata": {
        "id": "YaElvPL4Pkes"
      },
      "source": [
        "import pandas as pd\n",
        "import matplotlib.pyplot as plt\n",
        "get_ipython().run_line_magic('matplotlib', 'inline')"
      ],
      "execution_count": 1,
      "outputs": []
    },
    {
      "cell_type": "code",
      "metadata": {
        "colab": {
          "base_uri": "https://localhost:8080/",
          "height": 204
        },
        "id": "1vtRmMHdPzMB",
        "outputId": "9ef48914-7fcd-4b21-9497-efe6c42a03e7"
      },
      "source": [
        "book=pd.read_csv('/content/book.csv')\n",
        "book.head()"
      ],
      "execution_count": 2,
      "outputs": [
        {
          "output_type": "execute_result",
          "data": {
            "text/html": [
              "<div>\n",
              "<style scoped>\n",
              "    .dataframe tbody tr th:only-of-type {\n",
              "        vertical-align: middle;\n",
              "    }\n",
              "\n",
              "    .dataframe tbody tr th {\n",
              "        vertical-align: top;\n",
              "    }\n",
              "\n",
              "    .dataframe thead th {\n",
              "        text-align: right;\n",
              "    }\n",
              "</style>\n",
              "<table border=\"1\" class=\"dataframe\">\n",
              "  <thead>\n",
              "    <tr style=\"text-align: right;\">\n",
              "      <th></th>\n",
              "      <th>ChildBks</th>\n",
              "      <th>YouthBks</th>\n",
              "      <th>CookBks</th>\n",
              "      <th>DoItYBks</th>\n",
              "      <th>RefBks</th>\n",
              "      <th>ArtBks</th>\n",
              "      <th>GeogBks</th>\n",
              "      <th>ItalCook</th>\n",
              "      <th>ItalAtlas</th>\n",
              "      <th>ItalArt</th>\n",
              "      <th>Florence</th>\n",
              "    </tr>\n",
              "  </thead>\n",
              "  <tbody>\n",
              "    <tr>\n",
              "      <th>0</th>\n",
              "      <td>0</td>\n",
              "      <td>1</td>\n",
              "      <td>0</td>\n",
              "      <td>1</td>\n",
              "      <td>0</td>\n",
              "      <td>0</td>\n",
              "      <td>1</td>\n",
              "      <td>0</td>\n",
              "      <td>0</td>\n",
              "      <td>0</td>\n",
              "      <td>0</td>\n",
              "    </tr>\n",
              "    <tr>\n",
              "      <th>1</th>\n",
              "      <td>1</td>\n",
              "      <td>0</td>\n",
              "      <td>0</td>\n",
              "      <td>0</td>\n",
              "      <td>0</td>\n",
              "      <td>0</td>\n",
              "      <td>0</td>\n",
              "      <td>0</td>\n",
              "      <td>0</td>\n",
              "      <td>0</td>\n",
              "      <td>0</td>\n",
              "    </tr>\n",
              "    <tr>\n",
              "      <th>2</th>\n",
              "      <td>0</td>\n",
              "      <td>0</td>\n",
              "      <td>0</td>\n",
              "      <td>0</td>\n",
              "      <td>0</td>\n",
              "      <td>0</td>\n",
              "      <td>0</td>\n",
              "      <td>0</td>\n",
              "      <td>0</td>\n",
              "      <td>0</td>\n",
              "      <td>0</td>\n",
              "    </tr>\n",
              "    <tr>\n",
              "      <th>3</th>\n",
              "      <td>1</td>\n",
              "      <td>1</td>\n",
              "      <td>1</td>\n",
              "      <td>0</td>\n",
              "      <td>1</td>\n",
              "      <td>0</td>\n",
              "      <td>1</td>\n",
              "      <td>0</td>\n",
              "      <td>0</td>\n",
              "      <td>0</td>\n",
              "      <td>0</td>\n",
              "    </tr>\n",
              "    <tr>\n",
              "      <th>4</th>\n",
              "      <td>0</td>\n",
              "      <td>0</td>\n",
              "      <td>1</td>\n",
              "      <td>0</td>\n",
              "      <td>0</td>\n",
              "      <td>0</td>\n",
              "      <td>1</td>\n",
              "      <td>0</td>\n",
              "      <td>0</td>\n",
              "      <td>0</td>\n",
              "      <td>0</td>\n",
              "    </tr>\n",
              "  </tbody>\n",
              "</table>\n",
              "</div>"
            ],
            "text/plain": [
              "   ChildBks  YouthBks  CookBks  ...  ItalAtlas  ItalArt  Florence\n",
              "0         0         1        0  ...          0        0         0\n",
              "1         1         0        0  ...          0        0         0\n",
              "2         0         0        0  ...          0        0         0\n",
              "3         1         1        1  ...          0        0         0\n",
              "4         0         0        1  ...          0        0         0\n",
              "\n",
              "[5 rows x 11 columns]"
            ]
          },
          "metadata": {
            "tags": []
          },
          "execution_count": 2
        }
      ]
    },
    {
      "cell_type": "code",
      "metadata": {
        "colab": {
          "base_uri": "https://localhost:8080/",
          "height": 419
        },
        "id": "S-lEhiSzP_2Q",
        "outputId": "5ee0b2fe-8a3b-46f0-bca9-2d77394a1bf6"
      },
      "source": [
        "book.isnull()"
      ],
      "execution_count": 3,
      "outputs": [
        {
          "output_type": "execute_result",
          "data": {
            "text/html": [
              "<div>\n",
              "<style scoped>\n",
              "    .dataframe tbody tr th:only-of-type {\n",
              "        vertical-align: middle;\n",
              "    }\n",
              "\n",
              "    .dataframe tbody tr th {\n",
              "        vertical-align: top;\n",
              "    }\n",
              "\n",
              "    .dataframe thead th {\n",
              "        text-align: right;\n",
              "    }\n",
              "</style>\n",
              "<table border=\"1\" class=\"dataframe\">\n",
              "  <thead>\n",
              "    <tr style=\"text-align: right;\">\n",
              "      <th></th>\n",
              "      <th>ChildBks</th>\n",
              "      <th>YouthBks</th>\n",
              "      <th>CookBks</th>\n",
              "      <th>DoItYBks</th>\n",
              "      <th>RefBks</th>\n",
              "      <th>ArtBks</th>\n",
              "      <th>GeogBks</th>\n",
              "      <th>ItalCook</th>\n",
              "      <th>ItalAtlas</th>\n",
              "      <th>ItalArt</th>\n",
              "      <th>Florence</th>\n",
              "    </tr>\n",
              "  </thead>\n",
              "  <tbody>\n",
              "    <tr>\n",
              "      <th>0</th>\n",
              "      <td>False</td>\n",
              "      <td>False</td>\n",
              "      <td>False</td>\n",
              "      <td>False</td>\n",
              "      <td>False</td>\n",
              "      <td>False</td>\n",
              "      <td>False</td>\n",
              "      <td>False</td>\n",
              "      <td>False</td>\n",
              "      <td>False</td>\n",
              "      <td>False</td>\n",
              "    </tr>\n",
              "    <tr>\n",
              "      <th>1</th>\n",
              "      <td>False</td>\n",
              "      <td>False</td>\n",
              "      <td>False</td>\n",
              "      <td>False</td>\n",
              "      <td>False</td>\n",
              "      <td>False</td>\n",
              "      <td>False</td>\n",
              "      <td>False</td>\n",
              "      <td>False</td>\n",
              "      <td>False</td>\n",
              "      <td>False</td>\n",
              "    </tr>\n",
              "    <tr>\n",
              "      <th>2</th>\n",
              "      <td>False</td>\n",
              "      <td>False</td>\n",
              "      <td>False</td>\n",
              "      <td>False</td>\n",
              "      <td>False</td>\n",
              "      <td>False</td>\n",
              "      <td>False</td>\n",
              "      <td>False</td>\n",
              "      <td>False</td>\n",
              "      <td>False</td>\n",
              "      <td>False</td>\n",
              "    </tr>\n",
              "    <tr>\n",
              "      <th>3</th>\n",
              "      <td>False</td>\n",
              "      <td>False</td>\n",
              "      <td>False</td>\n",
              "      <td>False</td>\n",
              "      <td>False</td>\n",
              "      <td>False</td>\n",
              "      <td>False</td>\n",
              "      <td>False</td>\n",
              "      <td>False</td>\n",
              "      <td>False</td>\n",
              "      <td>False</td>\n",
              "    </tr>\n",
              "    <tr>\n",
              "      <th>4</th>\n",
              "      <td>False</td>\n",
              "      <td>False</td>\n",
              "      <td>False</td>\n",
              "      <td>False</td>\n",
              "      <td>False</td>\n",
              "      <td>False</td>\n",
              "      <td>False</td>\n",
              "      <td>False</td>\n",
              "      <td>False</td>\n",
              "      <td>False</td>\n",
              "      <td>False</td>\n",
              "    </tr>\n",
              "    <tr>\n",
              "      <th>...</th>\n",
              "      <td>...</td>\n",
              "      <td>...</td>\n",
              "      <td>...</td>\n",
              "      <td>...</td>\n",
              "      <td>...</td>\n",
              "      <td>...</td>\n",
              "      <td>...</td>\n",
              "      <td>...</td>\n",
              "      <td>...</td>\n",
              "      <td>...</td>\n",
              "      <td>...</td>\n",
              "    </tr>\n",
              "    <tr>\n",
              "      <th>1995</th>\n",
              "      <td>False</td>\n",
              "      <td>False</td>\n",
              "      <td>False</td>\n",
              "      <td>False</td>\n",
              "      <td>False</td>\n",
              "      <td>False</td>\n",
              "      <td>False</td>\n",
              "      <td>False</td>\n",
              "      <td>False</td>\n",
              "      <td>False</td>\n",
              "      <td>False</td>\n",
              "    </tr>\n",
              "    <tr>\n",
              "      <th>1996</th>\n",
              "      <td>False</td>\n",
              "      <td>False</td>\n",
              "      <td>False</td>\n",
              "      <td>False</td>\n",
              "      <td>False</td>\n",
              "      <td>False</td>\n",
              "      <td>False</td>\n",
              "      <td>False</td>\n",
              "      <td>False</td>\n",
              "      <td>False</td>\n",
              "      <td>False</td>\n",
              "    </tr>\n",
              "    <tr>\n",
              "      <th>1997</th>\n",
              "      <td>False</td>\n",
              "      <td>False</td>\n",
              "      <td>False</td>\n",
              "      <td>False</td>\n",
              "      <td>False</td>\n",
              "      <td>False</td>\n",
              "      <td>False</td>\n",
              "      <td>False</td>\n",
              "      <td>False</td>\n",
              "      <td>False</td>\n",
              "      <td>False</td>\n",
              "    </tr>\n",
              "    <tr>\n",
              "      <th>1998</th>\n",
              "      <td>False</td>\n",
              "      <td>False</td>\n",
              "      <td>False</td>\n",
              "      <td>False</td>\n",
              "      <td>False</td>\n",
              "      <td>False</td>\n",
              "      <td>False</td>\n",
              "      <td>False</td>\n",
              "      <td>False</td>\n",
              "      <td>False</td>\n",
              "      <td>False</td>\n",
              "    </tr>\n",
              "    <tr>\n",
              "      <th>1999</th>\n",
              "      <td>False</td>\n",
              "      <td>False</td>\n",
              "      <td>False</td>\n",
              "      <td>False</td>\n",
              "      <td>False</td>\n",
              "      <td>False</td>\n",
              "      <td>False</td>\n",
              "      <td>False</td>\n",
              "      <td>False</td>\n",
              "      <td>False</td>\n",
              "      <td>False</td>\n",
              "    </tr>\n",
              "  </tbody>\n",
              "</table>\n",
              "<p>2000 rows × 11 columns</p>\n",
              "</div>"
            ],
            "text/plain": [
              "      ChildBks  YouthBks  CookBks  ...  ItalAtlas  ItalArt  Florence\n",
              "0        False     False    False  ...      False    False     False\n",
              "1        False     False    False  ...      False    False     False\n",
              "2        False     False    False  ...      False    False     False\n",
              "3        False     False    False  ...      False    False     False\n",
              "4        False     False    False  ...      False    False     False\n",
              "...        ...       ...      ...  ...        ...      ...       ...\n",
              "1995     False     False    False  ...      False    False     False\n",
              "1996     False     False    False  ...      False    False     False\n",
              "1997     False     False    False  ...      False    False     False\n",
              "1998     False     False    False  ...      False    False     False\n",
              "1999     False     False    False  ...      False    False     False\n",
              "\n",
              "[2000 rows x 11 columns]"
            ]
          },
          "metadata": {
            "tags": []
          },
          "execution_count": 3
        }
      ]
    },
    {
      "cell_type": "code",
      "metadata": {
        "colab": {
          "base_uri": "https://localhost:8080/"
        },
        "id": "xi-qRaLvQDss",
        "outputId": "b82b7f92-4989-4a40-e37c-1da4e2452a86"
      },
      "source": [
        "book.info()"
      ],
      "execution_count": 4,
      "outputs": [
        {
          "output_type": "stream",
          "text": [
            "<class 'pandas.core.frame.DataFrame'>\n",
            "RangeIndex: 2000 entries, 0 to 1999\n",
            "Data columns (total 11 columns):\n",
            " #   Column     Non-Null Count  Dtype\n",
            "---  ------     --------------  -----\n",
            " 0   ChildBks   2000 non-null   int64\n",
            " 1   YouthBks   2000 non-null   int64\n",
            " 2   CookBks    2000 non-null   int64\n",
            " 3   DoItYBks   2000 non-null   int64\n",
            " 4   RefBks     2000 non-null   int64\n",
            " 5   ArtBks     2000 non-null   int64\n",
            " 6   GeogBks    2000 non-null   int64\n",
            " 7   ItalCook   2000 non-null   int64\n",
            " 8   ItalAtlas  2000 non-null   int64\n",
            " 9   ItalArt    2000 non-null   int64\n",
            " 10  Florence   2000 non-null   int64\n",
            "dtypes: int64(11)\n",
            "memory usage: 172.0 KB\n"
          ],
          "name": "stdout"
        }
      ]
    },
    {
      "cell_type": "code",
      "metadata": {
        "colab": {
          "base_uri": "https://localhost:8080/"
        },
        "id": "TX4BAdOZQHLl",
        "outputId": "8bb8ef73-b4c0-4ef1-eefc-8454357e1aa4"
      },
      "source": [
        "book.columns"
      ],
      "execution_count": 5,
      "outputs": [
        {
          "output_type": "execute_result",
          "data": {
            "text/plain": [
              "Index(['ChildBks', 'YouthBks', 'CookBks', 'DoItYBks', 'RefBks', 'ArtBks',\n",
              "       'GeogBks', 'ItalCook', 'ItalAtlas', 'ItalArt', 'Florence'],\n",
              "      dtype='object')"
            ]
          },
          "metadata": {
            "tags": []
          },
          "execution_count": 5
        }
      ]
    },
    {
      "cell_type": "code",
      "metadata": {
        "id": "FJepOy-DQKzr"
      },
      "source": [
        "from mlxtend.frequent_patterns import apriori,association_rules"
      ],
      "execution_count": 6,
      "outputs": []
    },
    {
      "cell_type": "code",
      "metadata": {
        "colab": {
          "base_uri": "https://localhost:8080/",
          "height": 204
        },
        "id": "fF0Xa75qQO9j",
        "outputId": "1e1cc9f6-8c3a-4592-9577-22b28c1924b7"
      },
      "source": [
        "freq_items = apriori(book, min_support=0.1, use_colnames=True)\n",
        "freq_items.head()"
      ],
      "execution_count": 8,
      "outputs": [
        {
          "output_type": "execute_result",
          "data": {
            "text/html": [
              "<div>\n",
              "<style scoped>\n",
              "    .dataframe tbody tr th:only-of-type {\n",
              "        vertical-align: middle;\n",
              "    }\n",
              "\n",
              "    .dataframe tbody tr th {\n",
              "        vertical-align: top;\n",
              "    }\n",
              "\n",
              "    .dataframe thead th {\n",
              "        text-align: right;\n",
              "    }\n",
              "</style>\n",
              "<table border=\"1\" class=\"dataframe\">\n",
              "  <thead>\n",
              "    <tr style=\"text-align: right;\">\n",
              "      <th></th>\n",
              "      <th>support</th>\n",
              "      <th>itemsets</th>\n",
              "    </tr>\n",
              "  </thead>\n",
              "  <tbody>\n",
              "    <tr>\n",
              "      <th>0</th>\n",
              "      <td>0.4230</td>\n",
              "      <td>(ChildBks)</td>\n",
              "    </tr>\n",
              "    <tr>\n",
              "      <th>1</th>\n",
              "      <td>0.2475</td>\n",
              "      <td>(YouthBks)</td>\n",
              "    </tr>\n",
              "    <tr>\n",
              "      <th>2</th>\n",
              "      <td>0.4310</td>\n",
              "      <td>(CookBks)</td>\n",
              "    </tr>\n",
              "    <tr>\n",
              "      <th>3</th>\n",
              "      <td>0.2820</td>\n",
              "      <td>(DoItYBks)</td>\n",
              "    </tr>\n",
              "    <tr>\n",
              "      <th>4</th>\n",
              "      <td>0.2145</td>\n",
              "      <td>(RefBks)</td>\n",
              "    </tr>\n",
              "  </tbody>\n",
              "</table>\n",
              "</div>"
            ],
            "text/plain": [
              "   support    itemsets\n",
              "0   0.4230  (ChildBks)\n",
              "1   0.2475  (YouthBks)\n",
              "2   0.4310   (CookBks)\n",
              "3   0.2820  (DoItYBks)\n",
              "4   0.2145    (RefBks)"
            ]
          },
          "metadata": {
            "tags": []
          },
          "execution_count": 8
        }
      ]
    },
    {
      "cell_type": "code",
      "metadata": {
        "colab": {
          "base_uri": "https://localhost:8080/",
          "height": 487
        },
        "id": "n0vlNmcoQSRn",
        "outputId": "499cacd9-5d86-4481-d2e5-f10e1243d9ad"
      },
      "source": [
        "rules = association_rules(freq_items, metric =\"lift\", min_threshold = 1)\n",
        "rules = rules.sort_values(['confidence', 'lift'], ascending =[False, False])\n",
        "rules"
      ],
      "execution_count": 9,
      "outputs": [
        {
          "output_type": "execute_result",
          "data": {
            "text/html": [
              "<div>\n",
              "<style scoped>\n",
              "    .dataframe tbody tr th:only-of-type {\n",
              "        vertical-align: middle;\n",
              "    }\n",
              "\n",
              "    .dataframe tbody tr th {\n",
              "        vertical-align: top;\n",
              "    }\n",
              "\n",
              "    .dataframe thead th {\n",
              "        text-align: right;\n",
              "    }\n",
              "</style>\n",
              "<table border=\"1\" class=\"dataframe\">\n",
              "  <thead>\n",
              "    <tr style=\"text-align: right;\">\n",
              "      <th></th>\n",
              "      <th>antecedents</th>\n",
              "      <th>consequents</th>\n",
              "      <th>antecedent support</th>\n",
              "      <th>consequent support</th>\n",
              "      <th>support</th>\n",
              "      <th>confidence</th>\n",
              "      <th>lift</th>\n",
              "      <th>leverage</th>\n",
              "      <th>conviction</th>\n",
              "    </tr>\n",
              "  </thead>\n",
              "  <tbody>\n",
              "    <tr>\n",
              "      <th>28</th>\n",
              "      <td>(ItalCook)</td>\n",
              "      <td>(CookBks)</td>\n",
              "      <td>0.1135</td>\n",
              "      <td>0.4310</td>\n",
              "      <td>0.1135</td>\n",
              "      <td>1.000000</td>\n",
              "      <td>2.320186</td>\n",
              "      <td>0.064582</td>\n",
              "      <td>inf</td>\n",
              "    </tr>\n",
              "    <tr>\n",
              "      <th>82</th>\n",
              "      <td>(ArtBks, DoItYBks)</td>\n",
              "      <td>(CookBks)</td>\n",
              "      <td>0.1235</td>\n",
              "      <td>0.4310</td>\n",
              "      <td>0.1015</td>\n",
              "      <td>0.821862</td>\n",
              "      <td>1.906873</td>\n",
              "      <td>0.048272</td>\n",
              "      <td>3.194159</td>\n",
              "    </tr>\n",
              "    <tr>\n",
              "      <th>88</th>\n",
              "      <td>(GeogBks, DoItYBks)</td>\n",
              "      <td>(CookBks)</td>\n",
              "      <td>0.1325</td>\n",
              "      <td>0.4310</td>\n",
              "      <td>0.1085</td>\n",
              "      <td>0.818868</td>\n",
              "      <td>1.899926</td>\n",
              "      <td>0.051392</td>\n",
              "      <td>3.141354</td>\n",
              "    </tr>\n",
              "    <tr>\n",
              "      <th>94</th>\n",
              "      <td>(GeogBks, ArtBks)</td>\n",
              "      <td>(CookBks)</td>\n",
              "      <td>0.1275</td>\n",
              "      <td>0.4310</td>\n",
              "      <td>0.1035</td>\n",
              "      <td>0.811765</td>\n",
              "      <td>1.883445</td>\n",
              "      <td>0.048547</td>\n",
              "      <td>3.022812</td>\n",
              "    </tr>\n",
              "    <tr>\n",
              "      <th>52</th>\n",
              "      <td>(ChildBks, RefBks)</td>\n",
              "      <td>(CookBks)</td>\n",
              "      <td>0.1515</td>\n",
              "      <td>0.4310</td>\n",
              "      <td>0.1225</td>\n",
              "      <td>0.808581</td>\n",
              "      <td>1.876058</td>\n",
              "      <td>0.057204</td>\n",
              "      <td>2.972534</td>\n",
              "    </tr>\n",
              "    <tr>\n",
              "      <th>...</th>\n",
              "      <td>...</td>\n",
              "      <td>...</td>\n",
              "      <td>...</td>\n",
              "      <td>...</td>\n",
              "      <td>...</td>\n",
              "      <td>...</td>\n",
              "      <td>...</td>\n",
              "      <td>...</td>\n",
              "      <td>...</td>\n",
              "    </tr>\n",
              "    <tr>\n",
              "      <th>93</th>\n",
              "      <td>(CookBks)</td>\n",
              "      <td>(GeogBks, DoItYBks)</td>\n",
              "      <td>0.4310</td>\n",
              "      <td>0.1325</td>\n",
              "      <td>0.1085</td>\n",
              "      <td>0.251740</td>\n",
              "      <td>1.899926</td>\n",
              "      <td>0.051392</td>\n",
              "      <td>1.159357</td>\n",
              "    </tr>\n",
              "    <tr>\n",
              "      <th>74</th>\n",
              "      <td>(ChildBks)</td>\n",
              "      <td>(GeogBks, DoItYBks)</td>\n",
              "      <td>0.4230</td>\n",
              "      <td>0.1325</td>\n",
              "      <td>0.1045</td>\n",
              "      <td>0.247045</td>\n",
              "      <td>1.864490</td>\n",
              "      <td>0.048452</td>\n",
              "      <td>1.152127</td>\n",
              "    </tr>\n",
              "    <tr>\n",
              "      <th>80</th>\n",
              "      <td>(ChildBks)</td>\n",
              "      <td>(GeogBks, ArtBks)</td>\n",
              "      <td>0.4230</td>\n",
              "      <td>0.1275</td>\n",
              "      <td>0.1020</td>\n",
              "      <td>0.241135</td>\n",
              "      <td>1.891253</td>\n",
              "      <td>0.048067</td>\n",
              "      <td>1.149743</td>\n",
              "    </tr>\n",
              "    <tr>\n",
              "      <th>99</th>\n",
              "      <td>(CookBks)</td>\n",
              "      <td>(GeogBks, ArtBks)</td>\n",
              "      <td>0.4310</td>\n",
              "      <td>0.1275</td>\n",
              "      <td>0.1035</td>\n",
              "      <td>0.240139</td>\n",
              "      <td>1.883445</td>\n",
              "      <td>0.048547</td>\n",
              "      <td>1.148237</td>\n",
              "    </tr>\n",
              "    <tr>\n",
              "      <th>87</th>\n",
              "      <td>(CookBks)</td>\n",
              "      <td>(ArtBks, DoItYBks)</td>\n",
              "      <td>0.4310</td>\n",
              "      <td>0.1235</td>\n",
              "      <td>0.1015</td>\n",
              "      <td>0.235499</td>\n",
              "      <td>1.906873</td>\n",
              "      <td>0.048272</td>\n",
              "      <td>1.146499</td>\n",
              "    </tr>\n",
              "  </tbody>\n",
              "</table>\n",
              "<p>100 rows × 9 columns</p>\n",
              "</div>"
            ],
            "text/plain": [
              "            antecedents          consequents  ...  leverage  conviction\n",
              "28           (ItalCook)            (CookBks)  ...  0.064582         inf\n",
              "82   (ArtBks, DoItYBks)            (CookBks)  ...  0.048272    3.194159\n",
              "88  (GeogBks, DoItYBks)            (CookBks)  ...  0.051392    3.141354\n",
              "94    (GeogBks, ArtBks)            (CookBks)  ...  0.048547    3.022812\n",
              "52   (ChildBks, RefBks)            (CookBks)  ...  0.057204    2.972534\n",
              "..                  ...                  ...  ...       ...         ...\n",
              "93            (CookBks)  (GeogBks, DoItYBks)  ...  0.051392    1.159357\n",
              "74           (ChildBks)  (GeogBks, DoItYBks)  ...  0.048452    1.152127\n",
              "80           (ChildBks)    (GeogBks, ArtBks)  ...  0.048067    1.149743\n",
              "99            (CookBks)    (GeogBks, ArtBks)  ...  0.048547    1.148237\n",
              "87            (CookBks)   (ArtBks, DoItYBks)  ...  0.048272    1.146499\n",
              "\n",
              "[100 rows x 9 columns]"
            ]
          },
          "metadata": {
            "tags": []
          },
          "execution_count": 9
        }
      ]
    },
    {
      "cell_type": "code",
      "metadata": {
        "colab": {
          "base_uri": "https://localhost:8080/",
          "height": 295
        },
        "id": "aD42X5AXQsSL",
        "outputId": "5655af36-b00e-4e86-c76f-4907c7e7b2d0"
      },
      "source": [
        "plt.scatter(rules['support'], rules['confidence'], alpha=0.5)\n",
        "plt.xlabel('support')\n",
        "plt.ylabel('confidence')\n",
        "plt.title('Support vs Confidence')\n",
        "plt.show()"
      ],
      "execution_count": 10,
      "outputs": [
        {
          "output_type": "display_data",
          "data": {
            "image/png": "[encoded data removed]",
            "text/plain": [
              "<Figure size 432x288 with 1 Axes>"
            ]
          },
          "metadata": {
            "tags": [],
            "needs_background": "light"
          }
        }
      ]
    },
    {
      "cell_type": "code",
      "metadata": {
        "colab": {
          "base_uri": "https://localhost:8080/",
          "height": 204
        },
        "id": "PjbHLt2EQxJQ",
        "outputId": "fb3ead49-64f7-4bce-c2bd-d40d78fc11cc"
      },
      "source": [
        "freq_items = apriori(book, min_support=0.2, use_colnames=True)\n",
        "freq_items.head()"
      ],
      "execution_count": 11,
      "outputs": [
        {
          "output_type": "execute_result",
          "data": {
            "text/html": [
              "<div>\n",
              "<style scoped>\n",
              "    .dataframe tbody tr th:only-of-type {\n",
              "        vertical-align: middle;\n",
              "    }\n",
              "\n",
              "    .dataframe tbody tr th {\n",
              "        vertical-align: top;\n",
              "    }\n",
              "\n",
              "    .dataframe thead th {\n",
              "        text-align: right;\n",
              "    }\n",
              "</style>\n",
              "<table border=\"1\" class=\"dataframe\">\n",
              "  <thead>\n",
              "    <tr style=\"text-align: right;\">\n",
              "      <th></th>\n",
              "      <th>support</th>\n",
              "      <th>itemsets</th>\n",
              "    </tr>\n",
              "  </thead>\n",
              "  <tbody>\n",
              "    <tr>\n",
              "      <th>0</th>\n",
              "      <td>0.4230</td>\n",
              "      <td>(ChildBks)</td>\n",
              "    </tr>\n",
              "    <tr>\n",
              "      <th>1</th>\n",
              "      <td>0.2475</td>\n",
              "      <td>(YouthBks)</td>\n",
              "    </tr>\n",
              "    <tr>\n",
              "      <th>2</th>\n",
              "      <td>0.4310</td>\n",
              "      <td>(CookBks)</td>\n",
              "    </tr>\n",
              "    <tr>\n",
              "      <th>3</th>\n",
              "      <td>0.2820</td>\n",
              "      <td>(DoItYBks)</td>\n",
              "    </tr>\n",
              "    <tr>\n",
              "      <th>4</th>\n",
              "      <td>0.2145</td>\n",
              "      <td>(RefBks)</td>\n",
              "    </tr>\n",
              "  </tbody>\n",
              "</table>\n",
              "</div>"
            ],
            "text/plain": [
              "   support    itemsets\n",
              "0   0.4230  (ChildBks)\n",
              "1   0.2475  (YouthBks)\n",
              "2   0.4310   (CookBks)\n",
              "3   0.2820  (DoItYBks)\n",
              "4   0.2145    (RefBks)"
            ]
          },
          "metadata": {
            "tags": []
          },
          "execution_count": 11
        }
      ]
    },
    {
      "cell_type": "code",
      "metadata": {
        "colab": {
          "base_uri": "https://localhost:8080/",
          "height": 111
        },
        "id": "6f1Fwl3fQ5Bp",
        "outputId": "ddc76350-bc41-47b2-b2ac-33cd0811a10d"
      },
      "source": [
        "rules = association_rules(freq_items, metric =\"lift\", min_threshold = 1)\n",
        "rules = rules.sort_values(['confidence', 'lift'], ascending =[False, False])\n",
        "rules"
      ],
      "execution_count": 12,
      "outputs": [
        {
          "output_type": "execute_result",
          "data": {
            "text/html": [
              "<div>\n",
              "<style scoped>\n",
              "    .dataframe tbody tr th:only-of-type {\n",
              "        vertical-align: middle;\n",
              "    }\n",
              "\n",
              "    .dataframe tbody tr th {\n",
              "        vertical-align: top;\n",
              "    }\n",
              "\n",
              "    .dataframe thead th {\n",
              "        text-align: right;\n",
              "    }\n",
              "</style>\n",
              "<table border=\"1\" class=\"dataframe\">\n",
              "  <thead>\n",
              "    <tr style=\"text-align: right;\">\n",
              "      <th></th>\n",
              "      <th>antecedents</th>\n",
              "      <th>consequents</th>\n",
              "      <th>antecedent support</th>\n",
              "      <th>consequent support</th>\n",
              "      <th>support</th>\n",
              "      <th>confidence</th>\n",
              "      <th>lift</th>\n",
              "      <th>leverage</th>\n",
              "      <th>conviction</th>\n",
              "    </tr>\n",
              "  </thead>\n",
              "  <tbody>\n",
              "    <tr>\n",
              "      <th>0</th>\n",
              "      <td>(ChildBks)</td>\n",
              "      <td>(CookBks)</td>\n",
              "      <td>0.423</td>\n",
              "      <td>0.431</td>\n",
              "      <td>0.256</td>\n",
              "      <td>0.605201</td>\n",
              "      <td>1.404179</td>\n",
              "      <td>0.073687</td>\n",
              "      <td>1.441240</td>\n",
              "    </tr>\n",
              "    <tr>\n",
              "      <th>1</th>\n",
              "      <td>(CookBks)</td>\n",
              "      <td>(ChildBks)</td>\n",
              "      <td>0.431</td>\n",
              "      <td>0.423</td>\n",
              "      <td>0.256</td>\n",
              "      <td>0.593968</td>\n",
              "      <td>1.404179</td>\n",
              "      <td>0.073687</td>\n",
              "      <td>1.421069</td>\n",
              "    </tr>\n",
              "  </tbody>\n",
              "</table>\n",
              "</div>"
            ],
            "text/plain": [
              "  antecedents consequents  antecedent support  ...      lift  leverage  conviction\n",
              "0  (ChildBks)   (CookBks)               0.423  ...  1.404179  0.073687    1.441240\n",
              "1   (CookBks)  (ChildBks)               0.431  ...  1.404179  0.073687    1.421069\n",
              "\n",
              "[2 rows x 9 columns]"
            ]
          },
          "metadata": {
            "tags": []
          },
          "execution_count": 12
        }
      ]
    },
    {
      "cell_type": "code",
      "metadata": {
        "colab": {
          "base_uri": "https://localhost:8080/",
          "height": 295
        },
        "id": "XEiDZBxVQ8ik",
        "outputId": "5cecbb9c-bda3-47c4-ece5-053d4e31c4ef"
      },
      "source": [
        "plt.scatter(rules['support'], rules['confidence'], alpha=0.5)\n",
        "plt.xlabel('support')\n",
        "plt.ylabel('confidence')\n",
        "plt.title('Support vs Confidence')\n",
        "plt.show()"
      ],
      "execution_count": 13,
      "outputs": [
        {
          "output_type": "display_data",
          "data": {
            "image/png": "[encoded data removed]",
            "text/plain": [
              "<Figure size 432x288 with 1 Axes>"
            ]
          },
          "metadata": {
            "tags": [],
            "needs_background": "light"
          }
        }
      ]
    }
  ]
}